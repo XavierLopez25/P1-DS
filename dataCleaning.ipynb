{
 "cells": [
  {
   "cell_type": "markdown",
   "id": "db01ae03",
   "metadata": {},
   "source": [
    "# Limpieza de Datos"
   ]
  },
  {
   "cell_type": "markdown",
   "id": "2975141d",
   "metadata": {},
   "source": [
    "## Limpieza de la variable Teléfono"
   ]
  },
  {
   "cell_type": "code",
   "execution_count": 29,
   "id": "b7d70062",
   "metadata": {},
   "outputs": [],
   "source": [
    "import pandas as pd\n",
    "df = pd.read_csv(\"all_data.csv\", dtype={\"TELEFONO\": str})"
   ]
  },
  {
   "cell_type": "code",
   "execution_count": 30,
   "id": "11cba22a",
   "metadata": {},
   "outputs": [
    {
     "name": "stdout",
     "output_type": "stream",
     "text": [
      "4215 valores únicos\n",
      "46 NaN / vacíos\n",
      "Total rows: 6599\n"
     ]
    }
   ],
   "source": [
    "# Cuántos valores únicos y cuántos vacíos\n",
    "print(df[\"TELEFONO\"].nunique(), \"valores únicos\")\n",
    "print(df[\"TELEFONO\"].isna().sum(), \"NaN / vacíos\")\n",
    "print(\"Total rows:\", df.shape[0])"
   ]
  },
  {
   "cell_type": "code",
   "execution_count": 31,
   "id": "ce0c70df",
   "metadata": {},
   "outputs": [
    {
     "name": "stdout",
     "output_type": "stream",
     "text": [
      "Con .0 al final: 3522\n",
      "Con otros símbolos: 3556\n",
      "count    6553.000000\n",
      "mean        8.577598\n",
      "std         0.782789\n",
      "min         2.000000\n",
      "25%         8.000000\n",
      "50%         9.000000\n",
      "75%         9.000000\n",
      "max        24.000000\n",
      "Name: TELEFONO, dtype: float64\n"
     ]
    }
   ],
   "source": [
    "# Valores con notación científica (“.0”)  \n",
    "mask_sci = df[\"TELEFONO\"].str.contains(r\"\\.0$\", na=False)\n",
    "print(\"Con .0 al final:\", mask_sci.sum())\n",
    "\n",
    "# Valores con caracteres no numéricos  \n",
    "mask_nonnumeric = df[\"TELEFONO\"].str.contains(r\"\\D\", na=False)\n",
    "print(\"Con otros símbolos:\", mask_nonnumeric.sum())\n",
    "\n",
    "# Longitudes  \n",
    "longitudes = df[\"TELEFONO\"].dropna().str.replace(r\"\\D\", \"\", regex=True).str.len()\n",
    "print(longitudes.describe())\n"
   ]
  },
  {
   "cell_type": "code",
   "execution_count": 32,
   "id": "f00e24c4",
   "metadata": {},
   "outputs": [],
   "source": [
    "import re\n",
    "\n",
    "def limpiar_telefono(x):\n",
    "    def clean_number(num_str):\n",
    "        # 1) manejar notación científica\n",
    "        try:\n",
    "            if re.search(r\"[eE]\", num_str):\n",
    "                num_str = str(int(float(num_str)))\n",
    "        except:\n",
    "            return \"-1\"\n",
    "        # 2) quitar todo menos dígitos\n",
    "        num_str = re.sub(r\"\\D+\", \"\", num_str)\n",
    "        if not num_str:\n",
    "            return \"-1\"\n",
    "        # 3) truncar si hay >8 dígitos\n",
    "        if len(num_str) > 8:\n",
    "            num_str = num_str[:8]\n",
    "        # 4) invalidar si <7 dígitos\n",
    "        if len(num_str) < 7:\n",
    "            return \"-1\"\n",
    "        # 5) asegurar 8 dígitos\n",
    "        return num_str.zfill(8)\n",
    "\n",
    "    if pd.isna(x):\n",
    "        return pd.Series({\n",
    "            \"TELEFONO_LIMPIO\": \"-1\",\n",
    "            \"TELEFONOS_ADICIONALES\": \"\"\n",
    "        })\n",
    "\n",
    "    s = str(x).strip()\n",
    "    # dividir en múltiplos separadores\n",
    "    partes = re.split(r\"[;\\-/, ]+\", s)\n",
    "\n",
    "    # limpiar cada parte\n",
    "    limpiados = [clean_number(p) for p in partes]\n",
    "    # quedarnos sólo con los válidos\n",
    "    validos = [n for n in limpiados if n != \"-1\"]\n",
    "\n",
    "    if not validos:\n",
    "        return pd.Series({\n",
    "            \"TELEFONO_LIMPIO\": \"-1\",\n",
    "            \"TELEFONOS_ADICIONALES\": \"\"\n",
    "        })\n",
    "\n",
    "    primary = validos[0]\n",
    "    additional = validos[1:]\n",
    "\n",
    "    return pd.Series({\n",
    "        \"TELEFONO_LIMPIO\": primary,\n",
    "        \"TELEFONOS_ADICIONALES\": \";\".join(additional)\n",
    "    })"
   ]
  },
  {
   "cell_type": "code",
   "execution_count": 33,
   "id": "5e29a145",
   "metadata": {},
   "outputs": [],
   "source": [
    "# Aplicar la función y unir las dos columnas nuevas\n",
    "df[[\"TELEFONO_LIMPIO\", \"TELEFONOS_ADICIONALES\"]] = (\n",
    "    df[\"TELEFONO\"]\n",
    "      .apply(limpiar_telefono)\n",
    ")"
   ]
  },
  {
   "cell_type": "code",
   "execution_count": 34,
   "id": "a557a2bf",
   "metadata": {},
   "outputs": [
    {
     "name": "stdout",
     "output_type": "stream",
     "text": [
      "51 teléfonos inválidos\n"
     ]
    }
   ],
   "source": [
    "# Ahora imprimimos las métricas sobre la columna limpia\n",
    "print((df[\"TELEFONO_LIMPIO\"] == \"-1\").sum(), \"teléfonos inválidos\")"
   ]
  },
  {
   "cell_type": "code",
   "execution_count": 35,
   "id": "24acc171",
   "metadata": {},
   "outputs": [
    {
     "name": "stdout",
     "output_type": "stream",
     "text": [
      "        TELEFONO\n",
      "2278    78395647\n",
      "3271  47652631.0\n",
      "6589  52169634.0\n",
      "4237  49196605.0\n",
      "4909  51843372.0\n"
     ]
    }
   ],
   "source": [
    "print(df[['TELEFONO']].sample(5))"
   ]
  },
  {
   "cell_type": "code",
   "execution_count": 38,
   "id": "128ce1ce",
   "metadata": {},
   "outputs": [
    {
     "name": "stdout",
     "output_type": "stream",
     "text": [
      "0        \n",
      "1        \n",
      "2        \n",
      "3        \n",
      "4        \n",
      "       ..\n",
      "6594     \n",
      "6595     \n",
      "6596     \n",
      "6597     \n",
      "6598     \n",
      "Name: TELEFONOS_ADICIONALES, Length: 6599, dtype: object\n"
     ]
    }
   ],
   "source": [
    "print(df[\"TELEFONOS_ADICIONALES\"])"
   ]
  },
  {
   "cell_type": "code",
   "execution_count": 37,
   "id": "a4c035ad",
   "metadata": {},
   "outputs": [
    {
     "name": "stdout",
     "output_type": "stream",
     "text": [
      "Distribución de longitudes tras limpieza:\n",
      " TELEFONO_LIMPIO\n",
      "8    6548\n",
      "Name: count, dtype: int64\n"
     ]
    }
   ],
   "source": [
    "long_post = df[\"TELEFONO_LIMPIO\"]\\\n",
    "    .replace(\"-1\", pd.NA)\\\n",
    "    .dropna()\\\n",
    "    .str.len()\\\n",
    "    .value_counts()\n",
    "print(\"Distribución de longitudes tras limpieza:\\n\", long_post)"
   ]
  },
  {
   "cell_type": "markdown",
   "id": "905ff8c5",
   "metadata": {},
   "source": [
    "### Razones de las decisiones tomadas para la limpieza:"
   ]
  },
  {
   "cell_type": "markdown",
   "id": "4abc43b7",
   "metadata": {},
   "source": [
    "Decidimos primero normalizar todos los valores a cadenas de dígitos puros para garantizar la comparabilidad y evitar formatos mixtos (espacios, guiones, puntos o notación científica). Al eliminar cualquier carácter no numérico y convertir expresiones en “e” o con decimales a enteros, garantizamos que cada teléfono represente únicamente los dígitos esenciales. Truncar los números a ocho dígitos (o completar con ceros a la izquierda cuando falten) responde a la longitud estándar de los celulares en nuestro contexto, mientras que invalidar aquellas cadenas con menos de siete dígitos evita datos claramente erróneos o incompletos. Además, al extraer el primer número como “principal” y agrupar los adicionales en una columna separada, permitimos tanto el análisis prioritario de un contacto principal como la retención de otras vías de comunicación, sin duplicar registros."
   ]
  }
 ],
 "metadata": {
  "kernelspec": {
   "display_name": "venv",
   "language": "python",
   "name": "python3"
  },
  "language_info": {
   "codemirror_mode": {
    "name": "ipython",
    "version": 3
   },
   "file_extension": ".py",
   "mimetype": "text/x-python",
   "name": "python",
   "nbconvert_exporter": "python",
   "pygments_lexer": "ipython3",
   "version": "3.12.1"
  }
 },
 "nbformat": 4,
 "nbformat_minor": 5
}
