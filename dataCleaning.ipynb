{
 "cells": [
  {
   "cell_type": "markdown",
   "id": "db01ae03",
   "metadata": {},
   "source": [
    "## Limpieza de Datos"
   ]
  },
  {
   "cell_type": "markdown",
   "id": "2975141d",
   "metadata": {},
   "source": [
    "#### Limpieza de la variable Teléfono"
   ]
  },
  {
   "cell_type": "code",
   "execution_count": 1,
   "id": "b7d70062",
   "metadata": {},
   "outputs": [],
   "source": [
    "import pandas as pd\n",
    "df = pd.read_csv(\"all_data.csv\", dtype={\"TELEFONO\": str})"
   ]
  },
  {
   "cell_type": "code",
   "execution_count": 2,
   "id": "11cba22a",
   "metadata": {},
   "outputs": [
    {
     "name": "stdout",
     "output_type": "stream",
     "text": [
      "4215 valores únicos\n",
      "46 NaN / vacíos\n",
      "Total rows: 6599\n"
     ]
    }
   ],
   "source": [
    "# Cuántos valores únicos y cuántos vacíos\n",
    "print(df[\"TELEFONO\"].nunique(), \"valores únicos\")\n",
    "print(df[\"TELEFONO\"].isna().sum(), \"NaN / vacíos\")\n",
    "print(\"Total rows:\", df.shape[0])"
   ]
  },
  {
   "cell_type": "code",
   "execution_count": 3,
   "id": "ce0c70df",
   "metadata": {},
   "outputs": [
    {
     "name": "stdout",
     "output_type": "stream",
     "text": [
      "Con .0 al final: 3522\n",
      "Con otros símbolos: 3556\n",
      "count    6553.000000\n",
      "mean        8.577598\n",
      "std         0.782789\n",
      "min         2.000000\n",
      "25%         8.000000\n",
      "50%         9.000000\n",
      "75%         9.000000\n",
      "max        24.000000\n",
      "Name: TELEFONO, dtype: float64\n"
     ]
    }
   ],
   "source": [
    "# Valores con notación científica (“.0”)  \n",
    "mask_sci = df[\"TELEFONO\"].str.contains(r\"\\.0$\", na=False)\n",
    "print(\"Con .0 al final:\", mask_sci.sum())\n",
    "\n",
    "# Valores con caracteres no numéricos  \n",
    "mask_nonnumeric = df[\"TELEFONO\"].str.contains(r\"\\D\", na=False)\n",
    "print(\"Con otros símbolos:\", mask_nonnumeric.sum())\n",
    "\n",
    "# Longitudes  \n",
    "longitudes = df[\"TELEFONO\"].dropna().str.replace(r\"\\D\", \"\", regex=True).str.len()\n",
    "print(longitudes.describe())\n"
   ]
  },
  {
   "cell_type": "code",
   "execution_count": 4,
   "id": "f00e24c4",
   "metadata": {},
   "outputs": [],
   "source": [
    "import re\n",
    "\n",
    "def limpiar_telefono(x):\n",
    "    if pd.isna(x):\n",
    "        return \"-1\"  # o \"Sin teléfono\"\n",
    "\n",
    "    s = str(x).strip()\n",
    "\n",
    "    # Handle numbers in scientific notation\n",
    "    if 'e' in s or 'E' in s:\n",
    "        try:\n",
    "            s = str(int(float(s)))\n",
    "        except Exception:\n",
    "            return \"-1\"\n",
    "\n",
    "    # 1. Eliminar todo lo que no sea dígito\n",
    "    s = re.sub(r\"\\D+\", \"\", s)\n",
    "\n",
    "    # 2. Si quedó vacío\n",
    "    if not s:\n",
    "        return \"-1\"\n",
    "\n",
    "    # 3. Tomar solo el primer número si había varios concatenados\n",
    "    if len(s) > 8:\n",
    "        s = s[:8]\n",
    "\n",
    "    # 4. Validar longitud mínima\n",
    "    if len(s) < 7:\n",
    "        return \"-1\"\n",
    "\n",
    "    # 5. Para asegurar formato de 8 dígitos:  \n",
    "    s = s.zfill(8)\n",
    "\n",
    "    return s"
   ]
  },
  {
   "cell_type": "code",
   "execution_count": 5,
   "id": "5e29a145",
   "metadata": {},
   "outputs": [],
   "source": [
    "df[\"TELEFONO_LIMPIO\"] = df[\"TELEFONO\"].apply(limpiar_telefono)"
   ]
  },
  {
   "cell_type": "code",
   "execution_count": 6,
   "id": "a557a2bf",
   "metadata": {},
   "outputs": [
    {
     "name": "stdout",
     "output_type": "stream",
     "text": [
      "51 invalidos\n",
      "TELEFONO_LIMPIO\n",
      "8    6548\n",
      "2      51\n",
      "Name: count, dtype: int64\n"
     ]
    }
   ],
   "source": [
    "# ¿Cuántos inválidos quedan?\n",
    "print((df[\"TELEFONO_LIMPIO\"] == \"-1\").sum(), \"invalidos\")\n",
    "\n",
    "# Histograma de longitudes (deberían ser todos 8 o el marcador -1)\n",
    "long_post = df[\"TELEFONO_LIMPIO\"].str.len().value_counts()\n",
    "print(long_post)"
   ]
  }
 ],
 "metadata": {
  "kernelspec": {
   "display_name": "venv",
   "language": "python",
   "name": "python3"
  },
  "language_info": {
   "codemirror_mode": {
    "name": "ipython",
    "version": 3
   },
   "file_extension": ".py",
   "mimetype": "text/x-python",
   "name": "python",
   "nbconvert_exporter": "python",
   "pygments_lexer": "ipython3",
   "version": "3.12.1"
  }
 },
 "nbformat": 4,
 "nbformat_minor": 5
}
