{
 "cells": [
  {
   "cell_type": "markdown",
   "id": "db01ae03",
   "metadata": {},
   "source": [
    "# Limpieza de Datos"
   ]
  },
  {
   "cell_type": "code",
   "execution_count": 88,
   "id": "d6000d5b",
   "metadata": {},
   "outputs": [],
   "source": [
    "import pandas as pd\n",
    "import unicodedata"
   ]
  },
  {
   "cell_type": "markdown",
   "id": "2975141d",
   "metadata": {},
   "source": [
    "## Limpieza de la variable \"Teléfono\""
   ]
  },
  {
   "cell_type": "code",
   "execution_count": 89,
   "id": "b7d70062",
   "metadata": {},
   "outputs": [],
   "source": [
    "df = pd.read_csv(\"all_data.csv\", dtype={\"TELEFONO\": str})"
   ]
  },
  {
   "cell_type": "code",
   "execution_count": 90,
   "id": "11cba22a",
   "metadata": {},
   "outputs": [
    {
     "name": "stdout",
     "output_type": "stream",
     "text": [
      "4215 valores únicos\n",
      "46 NaN / vacíos\n",
      "Total rows: 6599\n"
     ]
    }
   ],
   "source": [
    "# Cuántos valores únicos y cuántos vacíos\n",
    "print(df[\"TELEFONO\"].nunique(), \"valores únicos\")\n",
    "print(df[\"TELEFONO\"].isna().sum(), \"NaN / vacíos\")\n",
    "print(\"Total rows:\", df.shape[0])"
   ]
  },
  {
   "cell_type": "code",
   "execution_count": 91,
   "id": "ce0c70df",
   "metadata": {},
   "outputs": [
    {
     "name": "stdout",
     "output_type": "stream",
     "text": [
      "Con .0 al final: 3522\n",
      "Con otros símbolos: 3556\n",
      "count    6553.000000\n",
      "mean        8.577598\n",
      "std         0.782789\n",
      "min         2.000000\n",
      "25%         8.000000\n",
      "50%         9.000000\n",
      "75%         9.000000\n",
      "max        24.000000\n",
      "Name: TELEFONO, dtype: float64\n"
     ]
    }
   ],
   "source": [
    "# Valores con notación científica (“.0”)  \n",
    "mask_sci = df[\"TELEFONO\"].str.contains(r\"\\.0$\", na=False)\n",
    "print(\"Con .0 al final:\", mask_sci.sum())\n",
    "\n",
    "# Valores con caracteres no numéricos  \n",
    "mask_nonnumeric = df[\"TELEFONO\"].str.contains(r\"\\D\", na=False)\n",
    "print(\"Con otros símbolos:\", mask_nonnumeric.sum())\n",
    "\n",
    "# Longitudes  \n",
    "longitudes = df[\"TELEFONO\"].dropna().str.replace(r\"\\D\", \"\", regex=True).str.len()\n",
    "print(longitudes.describe())\n"
   ]
  },
  {
   "cell_type": "code",
   "execution_count": 92,
   "id": "f00e24c4",
   "metadata": {},
   "outputs": [],
   "source": [
    "import re\n",
    "\n",
    "def limpiar_telefono(x):\n",
    "    def clean_number(num_str):\n",
    "        # 1) manejar notación científica\n",
    "        try:\n",
    "            if re.search(r\"[eE]\", num_str):\n",
    "                num_str = str(int(float(num_str)))\n",
    "        except:\n",
    "            return \"-1\"\n",
    "        # 2) quitar todo menos dígitos\n",
    "        num_str = re.sub(r\"\\D+\", \"\", num_str)\n",
    "        if not num_str:\n",
    "            return \"-1\"\n",
    "        # 3) truncar si hay >8 dígitos\n",
    "        if len(num_str) > 8:\n",
    "            num_str = num_str[:8]\n",
    "        # 4) invalidar si <7 dígitos\n",
    "        if len(num_str) < 7:\n",
    "            return \"-1\"\n",
    "        # 5) asegurar 8 dígitos\n",
    "        return num_str.zfill(8)\n",
    "\n",
    "    if pd.isna(x):\n",
    "        return pd.Series({\n",
    "            \"TELEFONO_LIMPIO\": \"-1\",\n",
    "            \"TELEFONOS_ADICIONALES\": \"\"\n",
    "        })\n",
    "\n",
    "    s = str(x).strip()\n",
    "    # dividir en múltiplos separadores\n",
    "    partes = re.split(r\"[;\\-/, ]+\", s)\n",
    "\n",
    "    # limpiar cada parte\n",
    "    limpiados = [clean_number(p) for p in partes]\n",
    "    # quedarnos sólo con los válidos\n",
    "    validos = [n for n in limpiados if n != \"-1\"]\n",
    "\n",
    "    if not validos:\n",
    "        return pd.Series({\n",
    "            \"TELEFONO_LIMPIO\": \"-1\",\n",
    "            \"TELEFONOS_ADICIONALES\": \"\"\n",
    "        })\n",
    "\n",
    "    primary = validos[0]\n",
    "    additional = validos[1:]\n",
    "\n",
    "    return pd.Series({\n",
    "        \"TELEFONO_LIMPIO\": primary,\n",
    "        \"TELEFONOS_ADICIONALES\": \";\".join(additional)\n",
    "    })"
   ]
  },
  {
   "cell_type": "code",
   "execution_count": 93,
   "id": "5e29a145",
   "metadata": {},
   "outputs": [],
   "source": [
    "# Aplicar la función y unir las dos columnas nuevas\n",
    "df[[\"TELEFONO_LIMPIO\", \"TELEFONOS_ADICIONALES\"]] = (\n",
    "    df[\"TELEFONO\"]\n",
    "      .apply(limpiar_telefono)\n",
    ")"
   ]
  },
  {
   "cell_type": "code",
   "execution_count": 94,
   "id": "a557a2bf",
   "metadata": {},
   "outputs": [
    {
     "name": "stdout",
     "output_type": "stream",
     "text": [
      "51 teléfonos inválidos\n"
     ]
    }
   ],
   "source": [
    "# Ahora imprimimos las métricas sobre la columna limpia\n",
    "print((df[\"TELEFONO_LIMPIO\"] == \"-1\").sum(), \"teléfonos inválidos\")"
   ]
  },
  {
   "cell_type": "code",
   "execution_count": 95,
   "id": "24acc171",
   "metadata": {},
   "outputs": [
    {
     "name": "stdout",
     "output_type": "stream",
     "text": [
      "        TELEFONO\n",
      "1019         NaN\n",
      "2788    57543661\n",
      "1664    59340090\n",
      "4491  42245597.0\n",
      "1126    23271111\n"
     ]
    }
   ],
   "source": [
    "print(df[['TELEFONO']].sample(5))"
   ]
  },
  {
   "cell_type": "code",
   "execution_count": 96,
   "id": "128ce1ce",
   "metadata": {},
   "outputs": [
    {
     "name": "stdout",
     "output_type": "stream",
     "text": [
      "0        \n",
      "1        \n",
      "2        \n",
      "3        \n",
      "4        \n",
      "       ..\n",
      "6594     \n",
      "6595     \n",
      "6596     \n",
      "6597     \n",
      "6598     \n",
      "Name: TELEFONOS_ADICIONALES, Length: 6599, dtype: object\n"
     ]
    }
   ],
   "source": [
    "print(df[\"TELEFONOS_ADICIONALES\"])"
   ]
  },
  {
   "cell_type": "code",
   "execution_count": 97,
   "id": "a4c035ad",
   "metadata": {},
   "outputs": [
    {
     "name": "stdout",
     "output_type": "stream",
     "text": [
      "Distribución de longitudes tras limpieza:\n",
      " TELEFONO_LIMPIO\n",
      "8    6548\n",
      "Name: count, dtype: int64\n"
     ]
    }
   ],
   "source": [
    "long_post = df[\"TELEFONO_LIMPIO\"]\\\n",
    "    .replace(\"-1\", pd.NA)\\\n",
    "    .dropna()\\\n",
    "    .str.len()\\\n",
    "    .value_counts()\n",
    "print(\"Distribución de longitudes tras limpieza:\\n\", long_post)"
   ]
  },
  {
   "cell_type": "markdown",
   "id": "905ff8c5",
   "metadata": {},
   "source": [
    "### Razones de las decisiones tomadas para la limpieza:"
   ]
  },
  {
   "cell_type": "markdown",
   "id": "4abc43b7",
   "metadata": {},
   "source": [
    "<small>\n",
    "\n",
    "Decidimos primero normalizar todos los valores a cadenas de dígitos puros para garantizar la comparabilidad y evitar formatos mixtos (espacios, guiones, puntos o notación científica). Al eliminar cualquier carácter no numérico y convertir expresiones en “e” o con decimales a enteros, garantizamos que cada teléfono represente únicamente los dígitos esenciales. Truncar los números a ocho dígitos (o completar con ceros a la izquierda cuando falten) responde a la longitud estándar de los celulares en nuestro contexto, mientras que invalidar aquellas cadenas con menos de siete dígitos evita datos claramente erróneos o incompletos. Además, al extraer el primer número como “principal” y agrupar los adicionales en una columna separada, permitimos tanto el análisis prioritario de un contacto principal como la retención de otras vías de comunicación, sin duplicar registros.\n",
    "\n",
    "</small>"
   ]
  },
  {
   "cell_type": "markdown",
   "id": "38140ada",
   "metadata": {},
   "source": [
    "## Limpieza de la variable \"Director\""
   ]
  },
  {
   "cell_type": "code",
   "execution_count": 98,
   "id": "2e8e7227",
   "metadata": {},
   "outputs": [],
   "source": [
    "df = pd.read_csv(\"all_data.csv\", dtype={\"DIRECTOR\": str})"
   ]
  },
  {
   "cell_type": "code",
   "execution_count": 99,
   "id": "13b793aa",
   "metadata": {},
   "outputs": [],
   "source": [
    "def normalize_text(text: str) -> str:\n",
    "    \"\"\"\n",
    "    Elimina tildes y acentos, pasa a mayúsculas y recorta espacios.\n",
    "    \"\"\"\n",
    "    text = unicodedata.normalize('NFKD', text)\n",
    "    text = ''.join(c for c in text if not unicodedata.combining(c))\n",
    "    return text.upper().strip()"
   ]
  },
  {
   "cell_type": "code",
   "execution_count": 100,
   "id": "c841720b",
   "metadata": {},
   "outputs": [],
   "source": [
    "INVALID_MARKERS = {\"nan\", \"none\", \"\", \"---\", \"----\", \"-----\", \"x\", \"--\"}"
   ]
  },
  {
   "cell_type": "code",
   "execution_count": 101,
   "id": "42b810b4",
   "metadata": {},
   "outputs": [],
   "source": [
    "def limpiar_director(val: str) -> str:\n",
    "    \"\"\"\n",
    "    1) Si es nulo o un marcador inválido → \"SIN DIRECTOR\"\n",
    "    2) Si, tras strip(), len < 6 → \"SIN DIRECTOR\"\n",
    "    3) En otro caso → normalizar tildes y pasar a mayúsculas\n",
    "    \"\"\"\n",
    "    if pd.isna(val):\n",
    "        return \"SIN DIRECTOR\"\n",
    "    v = val.strip()\n",
    "    if v.lower() in INVALID_MARKERS:\n",
    "        return \"SIN DIRECTOR\"\n",
    "    if len(v) < 6:\n",
    "        return \"SIN DIRECTOR\"\n",
    "    return normalize_text(v)"
   ]
  },
  {
   "cell_type": "code",
   "execution_count": 102,
   "id": "8d25dfde",
   "metadata": {},
   "outputs": [],
   "source": [
    "df[\"DIRECTOR_LIMPIO\"] = df[\"DIRECTOR\"].apply(limpiar_director)"
   ]
  },
  {
   "cell_type": "code",
   "execution_count": 103,
   "id": "397b8156",
   "metadata": {},
   "outputs": [
    {
     "name": "stdout",
     "output_type": "stream",
     "text": [
      "Total filas:                        6599\n",
      "Nulos originales:                   26\n",
      "Reemplazados como 'SIN DIRECTOR':  40\n",
      "Valores únicos en limpio:           3820\n",
      "Top 10 directores más frecuentes:\n",
      " DIRECTOR_LIMPIO\n",
      "SIN DIRECTOR                        40\n",
      "MARIA DOLORES PEREZ TUCHAN          10\n",
      "HECTOR REYNALDO GOMEZ AGUILAR        9\n",
      "SONIA JOSEFINA MORALES CAXAJ         8\n",
      "MELVIN RAFAEL REYES LOPEZ            8\n",
      "RONI ERNESTO RECINOS ESTRADA         8\n",
      "FRANCISCO REVOLORIO LOPEZ            8\n",
      "SILVIA MARLENI ALVARADO GUARDADO     8\n",
      "SANDRA NOEMI ORTIZ ESTRADA           7\n",
      "EDILSAR ROCAEL VAZQUEZ PEREZ         7\n",
      "Name: count, dtype: int64\n"
     ]
    }
   ],
   "source": [
    "print(\"Total filas:                       \", len(df))\n",
    "print(\"Nulos originales:                  \", df[\"DIRECTOR\"].isna().sum())\n",
    "print(\"Reemplazados como 'SIN DIRECTOR': \", (df[\"DIRECTOR_LIMPIO\"] == \"SIN DIRECTOR\").sum())\n",
    "print(\"Valores únicos en limpio:          \", df[\"DIRECTOR_LIMPIO\"].nunique())\n",
    "print(\"Top 10 directores más frecuentes:\\n\", df[\"DIRECTOR_LIMPIO\"].value_counts().head(10))"
   ]
  },
  {
   "cell_type": "code",
   "execution_count": null,
   "id": "6ab1eef0",
   "metadata": {},
   "outputs": [
    {
     "name": "stdout",
     "output_type": "stream",
     "text": [
      "\n",
      "Nombres normalizados que unifican >1 variante original:\n",
      "DIRECTOR_LIMPIO\n",
      "SIN DIRECTOR                              5\n",
      "ANAHI DEL PILAR HERNANDEZ CHOCHOM         3\n",
      "MARIA VERONICA AUYON OCAMPO DE GALICIA    3\n",
      "BLANCA ROSA HERNANDEZ LOPEZ               2\n",
      "ANGELICA DEL ROSARIO PATZAN QUISQUE       2\n",
      "ANGEL FELIPE LARIOS MELENDEZ              2\n",
      "CESAR FERNANDO ESCOBAR ZEPEDA             2\n",
      "CARLA ELIZABETH MONTERROSO GOMEZ          2\n",
      "CLAUDIA PATRICIA DAVILA RAMIREZ           2\n",
      "DALIDA ANAYANZA HERNANDEZ RAMIREZ         2\n",
      "Name: DIRECTOR, dtype: int64\n",
      "\n",
      "Ejemplos de variantes agrupadas:\n",
      "  'ANAHI DEL PILAR HERNANDEZ CHOCHOM'  ←  ['ANAHÍ DEL PILAR HERNÁNDEZ CHOCHOM', 'ANAHI DEL PILAR HERNÁNDEZ CHOCHÓM', 'ANAHÍ DEL PILAR HERNÁNDEZ CHOCHÓM']\n",
      "  'ANGEL FELIPE LARIOS MELENDEZ'  ←  ['ANGEL FELIPE LARIOS MELENDEZ', 'ANGEL FELIPE LARIOS MELÉNDEZ']\n",
      "  'ANGELICA DEL ROSARIO PATZAN QUISQUE'  ←  ['ANGÉLICA DEL ROSARIO PATZÁN QUISQUE', 'ANGELICA DEL ROSARIO PATZAN QUISQUE']\n",
      "  'BLANCA ROSA HERNANDEZ LOPEZ'  ←  ['BLANCA ROSA HERNÁNDEZ LÓPEZ', 'BLANCA ROSA HERNANDEZ LOPEZ']\n",
      "  'CARLA ELIZABETH MONTERROSO GOMEZ'  ←  ['CARLA ELIZABETH MONTERROSO GÓMEZ', 'CARLA ELIZABETH MONTERROSO GOMEZ']\n",
      "  'CESAR FERNANDO ESCOBAR ZEPEDA'  ←  ['CÉSAR FERNANDO ESCOBAR ZEPEDA', 'CESAR FERNANDO ESCOBAR ZEPEDA']\n",
      "  'CLAUDIA PATRICIA DAVILA RAMIREZ'  ←  ['CLAUDIA PATRICIA DAVILA RAMIREZ', 'CLAUDIA PATRICIA DAVILA RAMÍREZ']\n",
      "  'DALIDA ANAYANZA HERNANDEZ RAMIREZ'  ←  ['DÁLIDA ANAYANZA HERNÁNDEZ RAMÍREZ', 'DALIDA ANAYANZA HERNANDEZ RAMIREZ']\n",
      "  'DARWIN ENRIQUE ALVAREZ MORAN'  ←  ['DARWIN ENRIQUE ALVAREZ MORÁN', 'DARWIN ENRIQUE ALVAREZ MORAN']\n",
      "  'DIEGO DANIEL DIAZ'  ←  ['DIEGO DANIEL DIAZ', 'DIEGO DANIEL DÍAZ']\n",
      "  'ELIAS ISRAEL LOPEZ MIRANDA'  ←  ['ELIAS ISRAEL LÓPEZ MIRANDA', 'ELIAS ISRAEL LOPEZ MIRANDA']\n",
      "  'EMMA ETELVINA ORELLANA RAMIREZ'  ←  ['EMMA ETELVINA ORELLANA RAMIREZ', 'EMMA ETELVINA ORELLANA RAMÍREZ']\n",
      "  'FRANCISCO REVOLORIO LOPEZ'  ←  ['FRANCISCO REVOLORIO LOPEZ', 'FRANCISCO REVOLORIO LÓPEZ']\n",
      "  'GERALD PETER SCHAEFFER GARCIA'  ←  ['GERALD PETER SCHAEFFER GARCIA', 'GERALD PETER SCHAEFFER GARCÍA']\n",
      "  'HECTOR ENRIQUE ZUNIGA ORELLANA'  ←  ['HÉCTOR ENRIQUE ZÚÑIGA ORELLANA', 'HECTOR ENRIQUE ZUÑIGA ORELLANA']\n",
      "  'HERLINDO ARTIGA MARROQUIN'  ←  ['HERLINDO ARTIGA MARROQUÍN', 'HERLINDO ARTIGA MARROQUIN']\n",
      "  'ISABEL CRISTINA BALCAZAR VASQUEZ'  ←  ['ISABEL CRISTINA BALCAZAR VASQUEZ', 'ISABEL CRISTINA BALCAZAR VÁSQUEZ']\n",
      "  'JOSE ANTONIO MARTINEZ ORDONEZ'  ←  ['JOSÉ ANTONIO MARTINEZ ORDOÑÉZ', 'JOSÉ ANTONIO MARTÍNEZ ORDOÑEZ']\n",
      "  'JOSE DOMINGO PEREZ MESIAS'  ←  ['JOSÉ DOMINGO PÉREZ MESÍAS', 'JOSÉ DOMINGO PÉREZ MESIAS']\n",
      "  'JOSUE ESTRADA Y ESTRADA'  ←  ['JOSUE ESTRADA Y ESTRADA', 'JOSUÉ ESTRADA Y ESTRADA']\n",
      "  'JUAN CARLOS MONZON LUTIN'  ←  ['JUAN CARLOS MONZON LUTIN', 'JUAN CARLOS MONZÓN LUTIN']\n",
      "  'JULIO ROLANDO BARRIENTOS MONZON'  ←  ['JULIO ROLANDO BARRIENTOS MONZON', 'JULIO ROLANDO BARRIENTOS MONZÓN']\n",
      "  'KARLA YAMILETH NAJERA ARIAS'  ←  ['KARLA YAMILETH NAJERA ARIAS', 'KARLA YAMILETH NÁJERA ARIAS']\n",
      "  'LUZ MARIA SEGURA SAENZ'  ←  ['LUZ MARÍA SEGURA SAENZ', 'LUZ MARIA SEGURA SAENZ']\n",
      "  'MARIA DEL CARMEN URIZAR CATALAN'  ←  ['MARIA DEL CARMEN URIZAR CATALAN', 'MARÍA DEL CARMEN URIZAR CATALÁN']\n",
      "  'MARIA SALOME HUINAC XILOJ'  ←  ['MARIA SALOME HUINAC XILOJ', 'MARÍA SALOMÉ HUINAC XILOJ']\n",
      "  'MARIA TERESA BARTOLON MALDONADO'  ←  ['MARIA TERESA BARTOLÓN MALDONADO', 'MARÍA TERESA BARTOLÓN MALDONADO']\n",
      "  'MARIA VERONICA AUYON OCAMPO DE GALICIA'  ←  ['MARIA VERONICA AUYÓN OCAMPO DE GALICIA', 'MARIA VERÓNICA AUYON OCAMPO DE GALICIA', 'MARIA VERONICA AUYON OCAMPO DE GALICIA']\n",
      "  'MARILYN TATIANA SALGUERO ROLDAN'  ←  ['MARILYN TATIANA SALGUERO ROLDAN', 'MÁRILYN TATIANA SALGUERO ROLDÁN']\n",
      "  'MIGUEL ANGEL PISQUIY QUIXTAN'  ←  ['MIGUEL ANGEL PISQUIY QUIXTÁN', 'MIGUEL ANGEL PISQUIY QUIXTAN']\n",
      "  'NOE ISAIAS GALINDO HERNANDEZ'  ←  ['NOÉ ISAÍAS GALINDO HERNÁNDEZ', 'NOÉ ISAIAS GALINDO HERNÁNDEZ']\n",
      "  'ROMUALDO PERFECTO SANTIAGO RAMIREZ'  ←  ['ROMUALDO PERFECTO SANTIAGO RAMÍREZ', 'ROMUALDO PERFECTO SANTIAGO RAMIREZ']\n",
      "  'ROSA DELIA MORALES BALCARCEL'  ←  ['ROSA DELIA MORALES BALCÁRCEL', 'ROSA DELIA MORALES BALCARCEL']\n",
      "  'ROSSMERY RAMIREZ DE LA ROSA'  ←  ['ROSSMERY RAMIREZ DE LA ROSA', 'ROSSMERY RAMÍREZ DE LA ROSA']\n",
      "  'SILVIA LUCIA JEREZ RUANO'  ←  ['SILVIA LUCÍA JEREZ RUANO', 'SILVIA LUCIA JEREZ RUANO']\n",
      "  'SILVIA RODRIGUEZ CAYAX'  ←  ['SILVIA RODRÍGUEZ CAYAX', 'SILVIA RODRIGUEZ CAYAX']\n",
      "  'SIN DIRECTOR'  ←  ['---', '----', '-----', 'X', '--']\n",
      "  'YENIFFER ANALY MAKEPEACE RUIZ'  ←  ['YÉNIFFER ANALY MAKEPEACE RUIZ', 'YENIFFER ANALY MAKEPEACE RUÍZ']\n"
     ]
    }
   ],
   "source": [
    "mapping = (\n",
    "    df[[\"DIRECTOR\", \"DIRECTOR_LIMPIO\"]]\n",
    "      .dropna(subset=[\"DIRECTOR\"])      \n",
    "      .drop_duplicates()               \n",
    ")\n",
    "\n",
    "counts_raw_per_clean = (\n",
    "    mapping\n",
    "      .groupby(\"DIRECTOR_LIMPIO\")[\"DIRECTOR\"]\n",
    "      .nunique()\n",
    ")\n",
    "\n",
    "variants = counts_raw_per_clean[counts_raw_per_clean > 1]\n",
    "\n",
    "print(\"\\nNombres normalizados que unifican >1 variante original:\")\n",
    "print(variants.sort_values(ascending=False).head(10))\n",
    "\n",
    "print(\"\\nEjemplos de variantes agrupadas:\")\n",
    "for clean_name, group in mapping.groupby(\"DIRECTOR_LIMPIO\"):\n",
    "    raws = list(group[\"DIRECTOR\"])\n",
    "    if len(raws) > 1:\n",
    "        print(f\"  {clean_name!r}  ←  {raws}\")"
   ]
  }
 ],
 "metadata": {
  "kernelspec": {
   "display_name": "Python 3",
   "language": "python",
   "name": "python3"
  },
  "language_info": {
   "codemirror_mode": {
    "name": "ipython",
    "version": 3
   },
   "file_extension": ".py",
   "mimetype": "text/x-python",
   "name": "python",
   "nbconvert_exporter": "python",
   "pygments_lexer": "ipython3",
   "version": "3.10.2"
  }
 },
 "nbformat": 4,
 "nbformat_minor": 5
}
