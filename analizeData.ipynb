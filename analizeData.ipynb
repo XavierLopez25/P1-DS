{
 "cells": [
  {
   "cell_type": "markdown",
   "id": "4bd2df25",
   "metadata": {},
   "source": [
    "## Análisis de CSV"
   ]
  },
  {
   "cell_type": "code",
   "execution_count": 32,
   "id": "18df1e0b",
   "metadata": {},
   "outputs": [],
   "source": [
    "import pandas as pd\n",
    "import numpy as np\n",
    "import re\n",
    "from collections import Counter\n",
    "import unicodedata"
   ]
  },
  {
   "cell_type": "code",
   "execution_count": 5,
   "id": "83d2f825",
   "metadata": {},
   "outputs": [],
   "source": [
    "df = pd.read_csv('final/all_data.csv', delimiter=';', encoding='utf-8-sig')"
   ]
  },
  {
   "cell_type": "code",
   "execution_count": 6,
   "id": "eba34022",
   "metadata": {},
   "outputs": [
    {
     "data": {
      "text/html": [
       "<div>\n",
       "<style scoped>\n",
       "    .dataframe tbody tr th:only-of-type {\n",
       "        vertical-align: middle;\n",
       "    }\n",
       "\n",
       "    .dataframe tbody tr th {\n",
       "        vertical-align: top;\n",
       "    }\n",
       "\n",
       "    .dataframe thead th {\n",
       "        text-align: right;\n",
       "    }\n",
       "</style>\n",
       "<table border=\"1\" class=\"dataframe\">\n",
       "  <thead>\n",
       "    <tr style=\"text-align: right;\">\n",
       "      <th></th>\n",
       "      <th>CODIGO</th>\n",
       "      <th>DISTRITO</th>\n",
       "      <th>DEPARTAMENTO</th>\n",
       "      <th>MUNICIPIO</th>\n",
       "      <th>ESTABLECIMIENTO</th>\n",
       "      <th>DIRECCION</th>\n",
       "      <th>TELEFONO</th>\n",
       "      <th>SUPERVISOR</th>\n",
       "      <th>DIRECTOR</th>\n",
       "      <th>NIVEL</th>\n",
       "      <th>SECTOR</th>\n",
       "      <th>AREA</th>\n",
       "      <th>STATUS</th>\n",
       "      <th>MODALIDAD</th>\n",
       "      <th>JORNADA</th>\n",
       "      <th>PLAN</th>\n",
       "      <th>DEPARTAMENTAL</th>\n",
       "    </tr>\n",
       "  </thead>\n",
       "  <tbody>\n",
       "    <tr>\n",
       "      <th>0</th>\n",
       "      <td>00-01-0158-46</td>\n",
       "      <td>01-312</td>\n",
       "      <td>CIUDAD CAPITAL</td>\n",
       "      <td>ZONA 1</td>\n",
       "      <td>COLEGIO TECNICO PROGRESISTA CETECPRO</td>\n",
       "      <td>2A. AVENIDA 3-59</td>\n",
       "      <td>22512759</td>\n",
       "      <td>AMADO SALOMON FLORES PEREZ</td>\n",
       "      <td>IRMA AMPARO TOLEDO HERNANDEZ</td>\n",
       "      <td>DIVERSIFICADO</td>\n",
       "      <td>PRIVADO</td>\n",
       "      <td>URBANA</td>\n",
       "      <td>ABIERTA</td>\n",
       "      <td>MONOLINGUE</td>\n",
       "      <td>DOBLE</td>\n",
       "      <td>DIARIO(REGULAR)</td>\n",
       "      <td>GUATEMALA NORTE</td>\n",
       "    </tr>\n",
       "    <tr>\n",
       "      <th>1</th>\n",
       "      <td>00-01-0173-46</td>\n",
       "      <td>01-301</td>\n",
       "      <td>CIUDAD CAPITAL</td>\n",
       "      <td>ZONA 1</td>\n",
       "      <td>INSTITUTO NORMAL PARA SEÑORITAS CENTRO AMERICA</td>\n",
       "      <td>1A CALLE 2-64</td>\n",
       "      <td>22323424</td>\n",
       "      <td>LUCRECIA MARISOL CERMEÑO GONZÁLEZ</td>\n",
       "      <td>INGRID MARIELA ESPINA ORELLANA</td>\n",
       "      <td>DIVERSIFICADO</td>\n",
       "      <td>OFICIAL</td>\n",
       "      <td>URBANA</td>\n",
       "      <td>ABIERTA</td>\n",
       "      <td>MONOLINGUE</td>\n",
       "      <td>MATUTINA</td>\n",
       "      <td>DIARIO(REGULAR)</td>\n",
       "      <td>GUATEMALA NORTE</td>\n",
       "    </tr>\n",
       "    <tr>\n",
       "      <th>2</th>\n",
       "      <td>00-01-0174-46</td>\n",
       "      <td>01-307</td>\n",
       "      <td>CIUDAD CAPITAL</td>\n",
       "      <td>ZONA 1</td>\n",
       "      <td>ESCUELA NACIONAL CENTRAL DE FORMACION SECRETARIAL</td>\n",
       "      <td>12 AVENIDA 9-27</td>\n",
       "      <td>22322985</td>\n",
       "      <td>NORMA ARACELY PALOMO FRANCO DE DIAZ</td>\n",
       "      <td>FRANCISCO RENÉ CONTRERAS AQUINO</td>\n",
       "      <td>DIVERSIFICADO</td>\n",
       "      <td>OFICIAL</td>\n",
       "      <td>URBANA</td>\n",
       "      <td>ABIERTA</td>\n",
       "      <td>MONOLINGUE</td>\n",
       "      <td>MATUTINA</td>\n",
       "      <td>DIARIO(REGULAR)</td>\n",
       "      <td>GUATEMALA NORTE</td>\n",
       "    </tr>\n",
       "    <tr>\n",
       "      <th>3</th>\n",
       "      <td>00-01-0176-46</td>\n",
       "      <td>01-301</td>\n",
       "      <td>CIUDAD CAPITAL</td>\n",
       "      <td>ZONA 1</td>\n",
       "      <td>INSTITUTO NACIONAL DE BACHILLERATO EN COMPUTACION</td>\n",
       "      <td>3A CALLE 15-45</td>\n",
       "      <td>22202223</td>\n",
       "      <td>LUCRECIA MARISOL CERMEÑO GONZÁLEZ</td>\n",
       "      <td>FREDY HUMBERTO GONZÁLEZ SANTISTEBAN</td>\n",
       "      <td>DIVERSIFICADO</td>\n",
       "      <td>OFICIAL</td>\n",
       "      <td>URBANA</td>\n",
       "      <td>ABIERTA</td>\n",
       "      <td>MONOLINGUE</td>\n",
       "      <td>VESPERTINA</td>\n",
       "      <td>DIARIO(REGULAR)</td>\n",
       "      <td>GUATEMALA NORTE</td>\n",
       "    </tr>\n",
       "    <tr>\n",
       "      <th>4</th>\n",
       "      <td>00-01-0178-46</td>\n",
       "      <td>01-403</td>\n",
       "      <td>CIUDAD CAPITAL</td>\n",
       "      <td>ZONA 1</td>\n",
       "      <td>ESCUELA NACIONAL CENTRAL DE CIENCIAS COMERCIALES</td>\n",
       "      <td>10A. AVENIDA 9-42</td>\n",
       "      <td>22320914</td>\n",
       "      <td>CARLOS HUMBERTO GONZÁLEZ DE LEÓN</td>\n",
       "      <td>ESWIN NOE ROSALES LÓPEZ</td>\n",
       "      <td>DIVERSIFICADO</td>\n",
       "      <td>OFICIAL</td>\n",
       "      <td>URBANA</td>\n",
       "      <td>ABIERTA</td>\n",
       "      <td>MONOLINGUE</td>\n",
       "      <td>NOCTURNA</td>\n",
       "      <td>DIARIO(REGULAR)</td>\n",
       "      <td>GUATEMALA NORTE</td>\n",
       "    </tr>\n",
       "  </tbody>\n",
       "</table>\n",
       "</div>"
      ],
      "text/plain": [
       "          CODIGO DISTRITO    DEPARTAMENTO MUNICIPIO  \\\n",
       "0  00-01-0158-46   01-312  CIUDAD CAPITAL    ZONA 1   \n",
       "1  00-01-0173-46   01-301  CIUDAD CAPITAL    ZONA 1   \n",
       "2  00-01-0174-46   01-307  CIUDAD CAPITAL    ZONA 1   \n",
       "3  00-01-0176-46   01-301  CIUDAD CAPITAL    ZONA 1   \n",
       "4  00-01-0178-46   01-403  CIUDAD CAPITAL    ZONA 1   \n",
       "\n",
       "                                     ESTABLECIMIENTO          DIRECCION  \\\n",
       "0               COLEGIO TECNICO PROGRESISTA CETECPRO   2A. AVENIDA 3-59   \n",
       "1     INSTITUTO NORMAL PARA SEÑORITAS CENTRO AMERICA      1A CALLE 2-64   \n",
       "2  ESCUELA NACIONAL CENTRAL DE FORMACION SECRETARIAL    12 AVENIDA 9-27   \n",
       "3  INSTITUTO NACIONAL DE BACHILLERATO EN COMPUTACION     3A CALLE 15-45   \n",
       "4   ESCUELA NACIONAL CENTRAL DE CIENCIAS COMERCIALES  10A. AVENIDA 9-42   \n",
       "\n",
       "   TELEFONO                           SUPERVISOR  \\\n",
       "0  22512759           AMADO SALOMON FLORES PEREZ   \n",
       "1  22323424    LUCRECIA MARISOL CERMEÑO GONZÁLEZ   \n",
       "2  22322985  NORMA ARACELY PALOMO FRANCO DE DIAZ   \n",
       "3  22202223    LUCRECIA MARISOL CERMEÑO GONZÁLEZ   \n",
       "4  22320914     CARLOS HUMBERTO GONZÁLEZ DE LEÓN   \n",
       "\n",
       "                              DIRECTOR          NIVEL   SECTOR    AREA  \\\n",
       "0         IRMA AMPARO TOLEDO HERNANDEZ  DIVERSIFICADO  PRIVADO  URBANA   \n",
       "1       INGRID MARIELA ESPINA ORELLANA  DIVERSIFICADO  OFICIAL  URBANA   \n",
       "2      FRANCISCO RENÉ CONTRERAS AQUINO  DIVERSIFICADO  OFICIAL  URBANA   \n",
       "3  FREDY HUMBERTO GONZÁLEZ SANTISTEBAN  DIVERSIFICADO  OFICIAL  URBANA   \n",
       "4              ESWIN NOE ROSALES LÓPEZ  DIVERSIFICADO  OFICIAL  URBANA   \n",
       "\n",
       "    STATUS   MODALIDAD     JORNADA             PLAN    DEPARTAMENTAL  \n",
       "0  ABIERTA  MONOLINGUE       DOBLE  DIARIO(REGULAR)  GUATEMALA NORTE  \n",
       "1  ABIERTA  MONOLINGUE    MATUTINA  DIARIO(REGULAR)  GUATEMALA NORTE  \n",
       "2  ABIERTA  MONOLINGUE    MATUTINA  DIARIO(REGULAR)  GUATEMALA NORTE  \n",
       "3  ABIERTA  MONOLINGUE  VESPERTINA  DIARIO(REGULAR)  GUATEMALA NORTE  \n",
       "4  ABIERTA  MONOLINGUE    NOCTURNA  DIARIO(REGULAR)  GUATEMALA NORTE  "
      ]
     },
     "execution_count": 6,
     "metadata": {},
     "output_type": "execute_result"
    }
   ],
   "source": [
    "df.head()"
   ]
  },
  {
   "cell_type": "code",
   "execution_count": 6,
   "id": "11597187",
   "metadata": {},
   "outputs": [
    {
     "name": "stdout",
     "output_type": "stream",
     "text": [
      "<class 'pandas.core.frame.DataFrame'>\n",
      "RangeIndex: 6599 entries, 0 to 6598\n",
      "Data columns (total 17 columns):\n",
      " #   Column           Non-Null Count  Dtype \n",
      "---  ------           --------------  ----- \n",
      " 0   CODIGO           6599 non-null   object\n",
      " 1   DISTRITO         6599 non-null   object\n",
      " 2   DEPARTAMENTO     6599 non-null   object\n",
      " 3   MUNICIPIO        6599 non-null   object\n",
      " 4   ESTABLECIMIENTO  6599 non-null   object\n",
      " 5   DIRECCION        6597 non-null   object\n",
      " 6   TELEFONO         6553 non-null   object\n",
      " 7   SUPERVISOR       6599 non-null   object\n",
      " 8   DIRECTOR         6573 non-null   object\n",
      " 9   NIVEL            6599 non-null   object\n",
      " 10  SECTOR           6599 non-null   object\n",
      " 11  AREA             6599 non-null   object\n",
      " 12  STATUS           6599 non-null   object\n",
      " 13  MODALIDAD        6599 non-null   object\n",
      " 14  JORNADA          6599 non-null   object\n",
      " 15  PLAN             6599 non-null   object\n",
      " 16  DEPARTAMENTAL    6599 non-null   object\n",
      "dtypes: object(17)\n",
      "memory usage: 876.6+ KB\n"
     ]
    }
   ],
   "source": [
    "df.info()"
   ]
  },
  {
   "cell_type": "code",
   "execution_count": 7,
   "id": "a92781b0",
   "metadata": {},
   "outputs": [
    {
     "name": "stdout",
     "output_type": "stream",
     "text": [
      "Filas: 6599, Columnas: 17\n"
     ]
    }
   ],
   "source": [
    "print(f\"Filas: {df.shape[0]}, Columnas: {df.shape[1]}\")"
   ]
  },
  {
   "cell_type": "code",
   "execution_count": 8,
   "id": "a1220c44",
   "metadata": {},
   "outputs": [
    {
     "data": {
      "text/html": [
       "<div>\n",
       "<style scoped>\n",
       "    .dataframe tbody tr th:only-of-type {\n",
       "        vertical-align: middle;\n",
       "    }\n",
       "\n",
       "    .dataframe tbody tr th {\n",
       "        vertical-align: top;\n",
       "    }\n",
       "\n",
       "    .dataframe thead th {\n",
       "        text-align: right;\n",
       "    }\n",
       "</style>\n",
       "<table border=\"1\" class=\"dataframe\">\n",
       "  <thead>\n",
       "    <tr style=\"text-align: right;\">\n",
       "      <th></th>\n",
       "      <th>missing_count</th>\n",
       "      <th>missing_percent</th>\n",
       "    </tr>\n",
       "  </thead>\n",
       "  <tbody>\n",
       "    <tr>\n",
       "      <th>TELEFONO</th>\n",
       "      <td>46</td>\n",
       "      <td>0.697075</td>\n",
       "    </tr>\n",
       "    <tr>\n",
       "      <th>DIRECTOR</th>\n",
       "      <td>26</td>\n",
       "      <td>0.393999</td>\n",
       "    </tr>\n",
       "    <tr>\n",
       "      <th>DIRECCION</th>\n",
       "      <td>2</td>\n",
       "      <td>0.030308</td>\n",
       "    </tr>\n",
       "    <tr>\n",
       "      <th>CODIGO</th>\n",
       "      <td>0</td>\n",
       "      <td>0.000000</td>\n",
       "    </tr>\n",
       "    <tr>\n",
       "      <th>DISTRITO</th>\n",
       "      <td>0</td>\n",
       "      <td>0.000000</td>\n",
       "    </tr>\n",
       "    <tr>\n",
       "      <th>ESTABLECIMIENTO</th>\n",
       "      <td>0</td>\n",
       "      <td>0.000000</td>\n",
       "    </tr>\n",
       "    <tr>\n",
       "      <th>MUNICIPIO</th>\n",
       "      <td>0</td>\n",
       "      <td>0.000000</td>\n",
       "    </tr>\n",
       "    <tr>\n",
       "      <th>DEPARTAMENTO</th>\n",
       "      <td>0</td>\n",
       "      <td>0.000000</td>\n",
       "    </tr>\n",
       "    <tr>\n",
       "      <th>SUPERVISOR</th>\n",
       "      <td>0</td>\n",
       "      <td>0.000000</td>\n",
       "    </tr>\n",
       "    <tr>\n",
       "      <th>NIVEL</th>\n",
       "      <td>0</td>\n",
       "      <td>0.000000</td>\n",
       "    </tr>\n",
       "    <tr>\n",
       "      <th>SECTOR</th>\n",
       "      <td>0</td>\n",
       "      <td>0.000000</td>\n",
       "    </tr>\n",
       "    <tr>\n",
       "      <th>AREA</th>\n",
       "      <td>0</td>\n",
       "      <td>0.000000</td>\n",
       "    </tr>\n",
       "    <tr>\n",
       "      <th>STATUS</th>\n",
       "      <td>0</td>\n",
       "      <td>0.000000</td>\n",
       "    </tr>\n",
       "    <tr>\n",
       "      <th>MODALIDAD</th>\n",
       "      <td>0</td>\n",
       "      <td>0.000000</td>\n",
       "    </tr>\n",
       "    <tr>\n",
       "      <th>JORNADA</th>\n",
       "      <td>0</td>\n",
       "      <td>0.000000</td>\n",
       "    </tr>\n",
       "    <tr>\n",
       "      <th>PLAN</th>\n",
       "      <td>0</td>\n",
       "      <td>0.000000</td>\n",
       "    </tr>\n",
       "    <tr>\n",
       "      <th>DEPARTAMENTAL</th>\n",
       "      <td>0</td>\n",
       "      <td>0.000000</td>\n",
       "    </tr>\n",
       "  </tbody>\n",
       "</table>\n",
       "</div>"
      ],
      "text/plain": [
       "                 missing_count  missing_percent\n",
       "TELEFONO                    46         0.697075\n",
       "DIRECTOR                    26         0.393999\n",
       "DIRECCION                    2         0.030308\n",
       "CODIGO                       0         0.000000\n",
       "DISTRITO                     0         0.000000\n",
       "ESTABLECIMIENTO              0         0.000000\n",
       "MUNICIPIO                    0         0.000000\n",
       "DEPARTAMENTO                 0         0.000000\n",
       "SUPERVISOR                   0         0.000000\n",
       "NIVEL                        0         0.000000\n",
       "SECTOR                       0         0.000000\n",
       "AREA                         0         0.000000\n",
       "STATUS                       0         0.000000\n",
       "MODALIDAD                    0         0.000000\n",
       "JORNADA                      0         0.000000\n",
       "PLAN                         0         0.000000\n",
       "DEPARTAMENTAL                0         0.000000"
      ]
     },
     "execution_count": 8,
     "metadata": {},
     "output_type": "execute_result"
    }
   ],
   "source": [
    "missing = df.isnull().sum().to_frame(name='missing_count')\n",
    "missing['missing_percent'] = (missing['missing_count'] / len(df)) * 100\n",
    "missing.sort_values(by='missing_percent', ascending=False)"
   ]
  },
  {
   "cell_type": "markdown",
   "id": "73e28e64",
   "metadata": {},
   "source": [
    "### Revisión de columna Teléfono "
   ]
  },
  {
   "cell_type": "code",
   "execution_count": 15,
   "id": "11b425ff",
   "metadata": {},
   "outputs": [
    {
     "name": "stdout",
     "output_type": "stream",
     "text": [
      "Ejemplos de TELEFONO:\n",
      "['22512759' '22323424' '22322985' '22202223' '22320914' '58068368'\n",
      " '42201837' '22384684' '22329406' '22325522']\n",
      "\n",
      "Total con caracteres no numéricos (guiones, espacios, puntos, etc.):\n",
      "83\n",
      "\n",
      "Ejemplos con caracteres no numéricos:\n",
      "['nan' '24342036-24123888' '24314989-24310955' '66355887-66312603'\n",
      " '52660000-78323083' '79649696-78739432' '78739432-79649696'\n",
      " '78392709-78396701-78396702' '78880429-78880419' '56769964-77663283'\n",
      " '56769964-7766328' '77663283-77663283' '77375333-42470723' '4.21039E+15'\n",
      " '4.2811E+15' '79540830-79540909' '79504027-79504028' '31193946-46843572'\n",
      " '79484391-41051885' '45261770-46007362' '79480085-50307050'\n",
      " '79524680-79524680' '53886336-53886336' '79497500-78209540'\n",
      " '31089418-53230377' '42601313-79476691' '53660792-55969273'\n",
      " '79477890-79477891' '79224958-79223033']\n"
     ]
    }
   ],
   "source": [
    "print(\"Ejemplos de TELEFONO:\")\n",
    "print(df['TELEFONO'].dropna().unique()[:10])\n",
    "\n",
    "# Ver cuántos valores tienen caracteres no numéricos\n",
    "telefonos_problematicos = df['TELEFONO'] = df['TELEFONO'].astype(str) \n",
    "df['TELEFONO_non_numeric'] = df['TELEFONO'].str.contains(r'\\D', regex=True)\n",
    "\n",
    "print(\"\\nTotal con caracteres no numéricos (guiones, espacios, puntos, etc.):\")\n",
    "print(df['TELEFONO_non_numeric'].sum())\n",
    "\n",
    "# Ver ejemplos con problemas\n",
    "print(\"\\nEjemplos con caracteres no numéricos:\")\n",
    "print(df[df['TELEFONO_non_numeric']]['TELEFONO'].unique())"
   ]
  },
  {
   "cell_type": "code",
   "execution_count": 17,
   "id": "21628b6b",
   "metadata": {},
   "outputs": [
    {
     "data": {
      "text/plain": [
       "Counter({'n': 92, 'a': 46, '-': 35, '.': 3, 'E': 3, '+': 3})"
      ]
     },
     "execution_count": 17,
     "metadata": {},
     "output_type": "execute_result"
    }
   ],
   "source": [
    "# Ver qué caracteres no numéricos aparecen en esos teléfonos\n",
    "\n",
    "problematicos = df[df['TELEFONO_non_numeric']]['TELEFONO'].dropna().astype(str)\n",
    "\n",
    "# Extraer los caracteres no numéricos de todos los teléfonos\n",
    "no_digit_chars = ''.join(re.findall(r'\\D', ''.join(problematicos)))\n",
    "\n",
    "# Contar cuáles son más comunes\n",
    "Counter(no_digit_chars)"
   ]
  },
  {
   "cell_type": "code",
   "execution_count": 18,
   "id": "b975f45c",
   "metadata": {},
   "outputs": [
    {
     "name": "stdout",
     "output_type": "stream",
     "text": [
      "Distribución por cantidad de dígitos en TELEFONO:\n",
      "TELEFONO\n",
      "0       46\n",
      "1        1\n",
      "2        1\n",
      "4        1\n",
      "6        3\n",
      "7       18\n",
      "8     6495\n",
      "15       1\n",
      "16      32\n",
      "24       1\n",
      "Name: count, dtype: int64\n"
     ]
    }
   ],
   "source": [
    "telefonos_solo_digitos = df['TELEFONO'].astype(str).str.replace(r'\\D+', '', regex=True)\n",
    "\n",
    "longitudes = telefonos_solo_digitos.str.len()\n",
    "\n",
    "conteo_por_longitud = longitudes.value_counts().sort_index()\n",
    "\n",
    "print(\"Distribución por cantidad de dígitos en TELEFONO:\")\n",
    "print(conteo_por_longitud)"
   ]
  },
  {
   "cell_type": "code",
   "execution_count": null,
   "id": "d0264411",
   "metadata": {},
   "outputs": [
    {
     "name": "stdout",
     "output_type": "stream",
     "text": [
      "24342036-24123888\n",
      "24314989-24310955\n",
      "66355887-66312603\n",
      "52660000-78323083\n",
      "79649696-78739432\n",
      "78739432-79649696\n",
      "78392709-78396701-78396702\n",
      "78880429-78880419\n",
      "56769964-77663283\n",
      "56769964-7766328\n",
      "77663283-77663283\n",
      "77375333-42470723\n",
      "79540830-79540909\n",
      "79504027-79504028\n",
      "31193946-46843572\n",
      "79484391-41051885\n",
      "45261770-46007362\n",
      "79480085-50307050\n",
      "79524680-79524680\n",
      "53886336-53886336\n",
      "79497500-78209540\n",
      "31089418-53230377\n",
      "42601313-79476691\n",
      "53660792-55969273\n",
      "79477890-79477891\n",
      "79224958-79223033\n"
     ]
    }
   ],
   "source": [
    "ejemplos_dobles = df[telefonos_solo_digitos.str.len() > 8]['TELEFONO'].unique()\n",
    "\n",
    "for tel in ejemplos_dobles:\n",
    "    print(tel)"
   ]
  },
  {
   "cell_type": "code",
   "execution_count": 13,
   "id": "18375229",
   "metadata": {},
   "outputs": [
    {
     "name": "stdout",
     "output_type": "stream",
     "text": [
      "2232068\n",
      "2223228\n",
      "2232379\n",
      "5899624\n",
      "nan\n",
      "2437011\n",
      "5510735\n",
      "5364736\n",
      "40\n",
      "4215928\n",
      "3033\n",
      "783928\n",
      "4225675\n",
      "4140069\n",
      "5899378\n",
      "4.2811E+15\n",
      "574479\n",
      "0\n",
      "4085613\n",
      "533290\n",
      "4167076\n",
      "3127247\n",
      "5388633\n",
      "7844007\n"
     ]
    }
   ],
   "source": [
    "ejemplos_dobles = df[telefonos_solo_digitos.str.len() < 8]['TELEFONO'].unique()\n",
    "\n",
    "for tel in ejemplos_dobles:\n",
    "    print(tel)"
   ]
  },
  {
   "cell_type": "markdown",
   "id": "d9f44dc5",
   "metadata": {},
   "source": [
    "### Revisión de columna Director"
   ]
  },
  {
   "cell_type": "code",
   "execution_count": 21,
   "id": "b86c6012",
   "metadata": {},
   "outputs": [
    {
     "name": "stdout",
     "output_type": "stream",
     "text": [
      "Cantidad total de filas: 6599\n",
      "Valores únicos en 'DIRECTOR': 3863\n",
      "Valores nulos en 'DIRECTOR': 26\n"
     ]
    }
   ],
   "source": [
    "# Ver cantidad de valores únicos y nulos\n",
    "print(\"Cantidad total de filas:\", len(df))\n",
    "print(\"Valores únicos en 'DIRECTOR':\", df['DIRECTOR'].nunique())\n",
    "print(\"Valores nulos en 'DIRECTOR':\", df['DIRECTOR'].isnull().sum())"
   ]
  },
  {
   "cell_type": "code",
   "execution_count": 22,
   "id": "2690c49f",
   "metadata": {},
   "outputs": [
    {
     "name": "stdout",
     "output_type": "stream",
     "text": [
      "\n",
      "Top 10 nombres más frecuentes:\n",
      "DIRECTOR\n",
      "NaN                                 26\n",
      "MARÍA DOLORES PÉREZ TUCHÁN          10\n",
      "HÉCTOR REYNALDO GÓMEZ AGUILAR        9\n",
      "SILVIA MARLENI ALVARADO GUARDADO     8\n",
      "MELVIN RAFAEL REYES LÓPEZ            8\n",
      "RONI ERNESTO RECINOS ESTRADA         8\n",
      "SONIA JOSEFINA MORALES CAXAJ         8\n",
      "GERSON ARELY PUZ SAL                 7\n",
      "MARCO TULIO VARGAS ALVARADO          7\n",
      "JHONATAN EDUARDO SAC CAYAX           7\n",
      "Name: count, dtype: int64\n"
     ]
    }
   ],
   "source": [
    "# Ver valores más repetidos (top 10)\n",
    "print(\"\\nTop 10 nombres más frecuentes:\")\n",
    "print(df['DIRECTOR'].value_counts(dropna=False).head(10))"
   ]
  },
  {
   "cell_type": "code",
   "execution_count": 23,
   "id": "a07902aa",
   "metadata": {},
   "outputs": [
    {
     "name": "stdout",
     "output_type": "stream",
     "text": [
      "\n",
      "Algunos ejemplos únicos:\n",
      "['IRMA AMPARO TOLEDO HERNANDEZ' 'INGRID MARIELA ESPINA ORELLANA'\n",
      " 'FRANCISCO RENÉ CONTRERAS AQUINO' 'FREDY HUMBERTO GONZÁLEZ SANTISTEBAN'\n",
      " 'ESWIN NOE ROSALES LÓPEZ' 'JULIO CESAR SANTOS CAMPOS'\n",
      " 'JULIO ERNESTO GONZÁLEZ HERNÁNDEZ' 'SILVIA LETICIA PERÉN POYÓN'\n",
      " 'ELUBIA ANAYTE SIGUENZA MONTERROSO' 'NANCY ALEIDA BANCES ARÉVALO']\n"
     ]
    }
   ],
   "source": [
    "# Ver ejemplos únicos (sin repetir)\n",
    "print(\"\\nAlgunos ejemplos únicos:\")\n",
    "print(df['DIRECTOR'].dropna().unique()[:10])"
   ]
  },
  {
   "cell_type": "code",
   "execution_count": 24,
   "id": "6355519c",
   "metadata": {},
   "outputs": [
    {
     "name": "stdout",
     "output_type": "stream",
     "text": [
      "\n",
      "Distribución de longitud de los nombres:\n",
      "DIRECTOR\n",
      "1       1\n",
      "2       2\n",
      "3       6\n",
      "4       3\n",
      "5       2\n",
      "7       1\n",
      "8       5\n",
      "10      1\n",
      "12      1\n",
      "13      9\n",
      "14     11\n",
      "15     22\n",
      "16     30\n",
      "17     47\n",
      "18     86\n",
      "19     83\n",
      "20    122\n",
      "21    134\n",
      "22    189\n",
      "23    267\n",
      "24    356\n",
      "25    489\n",
      "26    600\n",
      "27    765\n",
      "28    751\n",
      "29    660\n",
      "30    586\n",
      "31    465\n",
      "32    309\n",
      "33    226\n",
      "34    146\n",
      "35     65\n",
      "36     46\n",
      "37     19\n",
      "38     24\n",
      "39     18\n",
      "40      8\n",
      "41      8\n",
      "42      5\n",
      "43      2\n",
      "44      1\n",
      "49      1\n",
      "51      1\n",
      "Name: count, dtype: int64\n"
     ]
    }
   ],
   "source": [
    "# Ver longitudes de los nombres\n",
    "print(\"\\nDistribución de longitud de los nombres:\")\n",
    "print(df['DIRECTOR'].dropna().str.len().value_counts().sort_index())"
   ]
  },
  {
   "cell_type": "code",
   "execution_count": 37,
   "id": "4d91df60",
   "metadata": {},
   "outputs": [
    {
     "name": "stdout",
     "output_type": "stream",
     "text": [
      "📏 Nombres muy cortos (<10 caracteres):\n",
      "Total: 6\n",
      "['---' 'nan' '----' '-----' 'X' '--']\n",
      "\n",
      "📏 Nombres muy largos (>40 caracteres):\n",
      "Total: 17\n",
      "['EVA ANGELINA RAMIREZ IXCAMPARIJ DE RAMÍREZ'\n",
      " 'SONIA LETICIA MACHUCA RODRÍGUEZ DE PARDUCCI'\n",
      " 'MARGOTH LETICIA ESTURBAN HERRARTE DE LOPEZ'\n",
      " 'BETTY CONSUELO GARCIA BERNAL DE CASTAÑEDA'\n",
      " 'INGRID JOHANA PANIAGUA MARIN DE FERNANDEZ'\n",
      " 'ANDREA VANESSA ALDANA VILLAGRAN DE CASTRO'\n",
      " 'DORA AMANDA MARTÍNEZ ESTRADA DE SAQUILMER'\n",
      " 'MARINA DE LOS ANGELES HERNÁNDEZ GÓMEZ DE BARRIENTOS'\n",
      " 'KRISZTYN HELKIA SABRINA MORALES BERREONDO'\n",
      " 'BELMA JEANNETH SECAIDA CONTRERAS DE MAYÉN'\n",
      " 'LILIAN ARGENTINA PANIAGUA AJÍN DE CASTILLO'\n",
      " 'JESSICA JEANNETTE SAGASTUME HICKS DE TZORIN.'\n",
      " 'CLAUDIA MARLENI ELÍAS COJULUN DE CIFUENTES'\n",
      " 'THELMA ASUCENA MENDOZA MENDOZA DE CARRILLO'\n",
      " 'THELMA KARINA QUIÑÓNEZ RODAS DE RODRÍGUEZ'\n",
      " 'MAJIB JHESSIEL YAZDIE WADY JOZ LANDAVERRY VASQUEZ'\n",
      " 'MARÍA VICTORIA GERÓNIMO ESCALANTE DE MÉNDEZ']\n"
     ]
    }
   ],
   "source": [
    "# Asegurar que todo sea string\n",
    "df['DIRECTOR'] = df['DIRECTOR'].astype(str)\n",
    "\n",
    "# Ver nombres muy cortos (< 10 caracteres)\n",
    "print(\"📏 Nombres muy cortos (<10 caracteres):\")\n",
    "nombres_cortos = df[df['DIRECTOR'].str.len() < 6]['DIRECTOR'].unique()\n",
    "print(f\"Total: {len(nombres_cortos)}\")\n",
    "print(nombres_cortos)  \n",
    "\n",
    "# Ver nombres muy largos (> 40 caracteres)\n",
    "print(\"\\n📏 Nombres muy largos (>40 caracteres):\")\n",
    "nombres_largos = df[df['DIRECTOR'].str.len() > 40]['DIRECTOR'].unique()\n",
    "print(f\"Total: {len(nombres_largos)}\")\n",
    "print(nombres_largos) "
   ]
  },
  {
   "cell_type": "code",
   "execution_count": null,
   "id": "c0ca89c1",
   "metadata": {},
   "outputs": [
    {
     "name": "stdout",
     "output_type": "stream",
     "text": [
      "\n",
      "Inconsistencias de capitalización:\n",
      "Total nombres con distintas capitalizaciones: 0\n",
      "Series([], Name: DIRECTOR, dtype: int64)\n"
     ]
    }
   ],
   "source": [
    "# Revisar inconsistencias: mayúsculas/minúsculas\n",
    "print(\"\\nInconsistencias de capitalización:\")\n",
    "df['DIRECTOR_lower'] = df['DIRECTOR'].str.lower().str.strip()\n",
    "capitalization_conflicts = df.groupby('DIRECTOR_lower')['DIRECTOR'].nunique()\n",
    "multi_format_names = capitalization_conflicts[capitalization_conflicts > 1]\n",
    "print(f\"Total nombres con distintas capitalizaciones: {len(multi_format_names)}\")\n",
    "print(multi_format_names.head(10))"
   ]
  },
  {
   "cell_type": "code",
   "execution_count": 35,
   "id": "79b93ed0",
   "metadata": {},
   "outputs": [
    {
     "name": "stdout",
     "output_type": "stream",
     "text": [
      "\n",
      "Nombres que aparecen con y sin tildes (o variantes acentuadas):\n",
      "Total con variantes acentuadas: 37\n",
      "DIRECTOR_normalized\n",
      "ANAHI DEL PILAR HERNANDEZ CHOCHOM         3\n",
      "ANGEL FELIPE LARIOS MELENDEZ              2\n",
      "ANGELICA DEL ROSARIO PATZAN QUISQUE       2\n",
      "BLANCA ROSA HERNANDEZ LOPEZ               2\n",
      "CARLA ELIZABETH MONTERROSO GOMEZ          2\n",
      "CESAR FERNANDO ESCOBAR ZEPEDA             2\n",
      "CLAUDIA PATRICIA DAVILA RAMIREZ           2\n",
      "DALIDA ANAYANZA HERNANDEZ RAMIREZ         2\n",
      "DARWIN ENRIQUE ALVAREZ MORAN              2\n",
      "DIEGO DANIEL DIAZ                         2\n",
      "ELIAS ISRAEL LOPEZ MIRANDA                2\n",
      "EMMA ETELVINA ORELLANA RAMIREZ            2\n",
      "FRANCISCO REVOLORIO LOPEZ                 2\n",
      "GERALD PETER SCHAEFFER GARCIA             2\n",
      "HECTOR ENRIQUE ZUNIGA ORELLANA            2\n",
      "HERLINDO ARTIGA MARROQUIN                 2\n",
      "ISABEL CRISTINA BALCAZAR VASQUEZ          2\n",
      "JOSE ANTONIO MARTINEZ ORDONEZ             2\n",
      "JOSE DOMINGO PEREZ MESIAS                 2\n",
      "JOSUE ESTRADA Y ESTRADA                   2\n",
      "JUAN CARLOS MONZON LUTIN                  2\n",
      "JULIO ROLANDO BARRIENTOS MONZON           2\n",
      "KARLA YAMILETH NAJERA ARIAS               2\n",
      "LUZ MARIA SEGURA SAENZ                    2\n",
      "MARIA DEL CARMEN URIZAR CATALAN           2\n",
      "MARIA SALOME HUINAC XILOJ                 2\n",
      "MARIA TERESA BARTOLON MALDONADO           2\n",
      "MARIA VERONICA AUYON OCAMPO DE GALICIA    3\n",
      "MARILYN TATIANA SALGUERO ROLDAN           2\n",
      "MIGUEL ANGEL PISQUIY QUIXTAN              2\n",
      "NOE ISAIAS GALINDO HERNANDEZ              2\n",
      "ROMUALDO PERFECTO SANTIAGO RAMIREZ        2\n",
      "ROSA DELIA MORALES BALCARCEL              2\n",
      "ROSSMERY RAMIREZ DE LA ROSA               2\n",
      "SILVIA LUCIA JEREZ RUANO                  2\n",
      "SILVIA RODRIGUEZ CAYAX                    2\n",
      "YENIFFER ANALY MAKEPEACE RUIZ             2\n",
      "Name: DIRECTOR, dtype: int64\n"
     ]
    }
   ],
   "source": [
    "# Revisar tildes vs sin tildes\n",
    "def remove_accents(text):\n",
    "    return ''.join(c for c in unicodedata.normalize('NFD', text)\n",
    "                   if unicodedata.category(c) != 'Mn')\n",
    "\n",
    "df['DIRECTOR_normalized'] = df['DIRECTOR'].str.upper().str.strip().apply(remove_accents)\n",
    "\n",
    "accent_conflicts = df.groupby('DIRECTOR_normalized')['DIRECTOR'].nunique()\n",
    "accent_variants = accent_conflicts[accent_conflicts > 1]\n",
    "\n",
    "print(\"\\nNombres que aparecen con y sin tildes (o variantes acentuadas):\")\n",
    "print(f\"Total con variantes acentuadas: {len(accent_variants)}\")\n",
    "print(accent_variants)"
   ]
  },
  {
   "cell_type": "markdown",
   "id": "3abade1f",
   "metadata": {},
   "source": [
    "### Análisis variable dirección"
   ]
  },
  {
   "cell_type": "code",
   "execution_count": 38,
   "id": "1d8e0e99",
   "metadata": {},
   "outputs": [
    {
     "name": "stdout",
     "output_type": "stream",
     "text": [
      "Estado general:\n",
      "Total de filas: 6599\n",
      "Nulos: 0\n",
      "Valores únicos: 4434\n"
     ]
    }
   ],
   "source": [
    "# Aseguramos que sea texto\n",
    "df['DIRECCION'] = df['DIRECCION'].astype(str)\n",
    "\n",
    "# Nulos y únicos\n",
    "print(\"Estado general:\")\n",
    "print(f\"Total de filas: {len(df)}\")\n",
    "print(f\"Nulos: {df['DIRECCION'].isnull().sum()}\")\n",
    "print(f\"Valores únicos: {df['DIRECCION'].nunique()}\")"
   ]
  },
  {
   "cell_type": "code",
   "execution_count": 39,
   "id": "1c3643d7",
   "metadata": {},
   "outputs": [
    {
     "name": "stdout",
     "output_type": "stream",
     "text": [
      "\n",
      "Distribución de longitud de caracteres:\n",
      "DIRECCION\n",
      "1       2\n",
      "3       2\n",
      "5       1\n",
      "6      15\n",
      "7       7\n",
      "8       8\n",
      "9      13\n",
      "10     20\n",
      "11     37\n",
      "12     84\n",
      "13    200\n",
      "14    219\n",
      "15    206\n",
      "16    284\n",
      "17    242\n",
      "Name: count, dtype: int64\n"
     ]
    }
   ],
   "source": [
    "# Longitudes de las direcciones\n",
    "print(\"\\nDistribución de longitud de caracteres:\")\n",
    "print(df['DIRECCION'].str.len().value_counts().sort_index().head(15))"
   ]
  },
  {
   "cell_type": "code",
   "execution_count": 49,
   "id": "76b8d8ff",
   "metadata": {},
   "outputs": [
    {
     "name": "stdout",
     "output_type": "stream",
     "text": [
      "\n",
      "Direcciones muy cortas:\n",
      "['nan' '.']\n"
     ]
    }
   ],
   "source": [
    "# Ver ejemplos muy cortos (< 10 caracteres)\n",
    "print(\"\\nDirecciones muy cortas:\")\n",
    "print(df[df['DIRECCION'].str.len() < 4]['DIRECCION'].unique())"
   ]
  },
  {
   "cell_type": "code",
   "execution_count": 41,
   "id": "427ea24e",
   "metadata": {},
   "outputs": [
    {
     "name": "stdout",
     "output_type": "stream",
     "text": [
      "\n",
      "Palabras comunes:\n",
      "ZONA: 3049\n",
      "CALLE: 2068\n",
      "1: 1706\n",
      "AVENIDA: 1628\n",
      "BARRIO: 929\n",
      "2: 928\n",
      "ALDEA: 880\n",
      "COLONIA: 797\n",
      "3: 772\n",
      "EL: 760\n"
     ]
    }
   ],
   "source": [
    "# Buscar patrones comunes\n",
    "print(\"\\nPalabras comunes:\")\n",
    "palabras = df['DIRECCION'].str.upper().str.findall(r'\\b\\w+\\b')\n",
    "from collections import Counter\n",
    "conteo_palabras = Counter()\n",
    "for lista in palabras:\n",
    "    conteo_palabras.update(lista)\n",
    "for palabra, freq in conteo_palabras.most_common(10):\n",
    "    print(f\"{palabra}: {freq}\")\n"
   ]
  },
  {
   "cell_type": "code",
   "execution_count": 42,
   "id": "d315b072",
   "metadata": {},
   "outputs": [
    {
     "name": "stdout",
     "output_type": "stream",
     "text": [
      "\n",
      " Caracteres no alfabéticos comunes:\n",
      "[('.', 3530), ('-', 3474), (',', 2189), ('\"', 455), ('Ó', 364), ('Í', 174), ('Á', 154), ('É', 143), ('Ñ', 33), ('ª', 23)]\n"
     ]
    }
   ],
   "source": [
    "# Buscar símbolos raros\n",
    "print(\"\\n Caracteres no alfabéticos comunes:\")\n",
    "no_letras = ''.join(df['DIRECCION'].dropna().astype(str))\n",
    "caracteres = Counter(re.findall(r'[^a-zA-Z0-9\\s]', no_letras))\n",
    "print(caracteres.most_common(10))"
   ]
  },
  {
   "cell_type": "markdown",
   "id": "b4fc5ee0",
   "metadata": {},
   "source": [
    "### Análisis variable Establecimiento"
   ]
  },
  {
   "cell_type": "code",
   "execution_count": 50,
   "id": "9bd106ea",
   "metadata": {},
   "outputs": [
    {
     "name": "stdout",
     "output_type": "stream",
     "text": [
      "Total de registros: 6599\n",
      "Nulos: 0\n",
      "Valores únicos: 3786\n"
     ]
    }
   ],
   "source": [
    "# Asegurar que todo sea string\n",
    "df['ESTABLECIMIENTO'] = df['ESTABLECIMIENTO'].astype(str)\n",
    "\n",
    "# 1. Valores únicos y nulos\n",
    "print(\"Total de registros:\", len(df))\n",
    "print(\"Nulos:\", df['ESTABLECIMIENTO'].isnull().sum())\n",
    "print(\"Valores únicos:\", df['ESTABLECIMIENTO'].nunique())"
   ]
  },
  {
   "cell_type": "code",
   "execution_count": 51,
   "id": "87b131dc",
   "metadata": {},
   "outputs": [
    {
     "name": "stdout",
     "output_type": "stream",
     "text": [
      "\n",
      "Top 10 nombres más frecuentes:\n",
      "ESTABLECIMIENTO\n",
      "INSTITUTO NACIONAL DE EDUCACION DIVERSIFICADA                        286\n",
      "INSTITUTO NACIONAL DE EDUCACIÓN DIVERSIFICADA                        102\n",
      "CENTRO DE EDUCACIÓN EXTRAESCOLAR -CEEX-                               32\n",
      "INSTITUTO DE EDUCACION DIVERSIFICADA POR COOPERATIVA DE ENSEÑANZA     22\n",
      "INSTITUTO DE EDUCACIÓN DIVERSIFICADA POR COOPERATIVA DE ENSEÑANZA     20\n",
      "INSTITUTO DIVERSIFICADO POR COOPERATIVA                               20\n",
      "ESCUELA NORMAL DE EDUCACION FISICA                                    18\n",
      "INSTITUTO DIVERSIFICADO POR COOPERATIVA DE ENSEÑANZA                  14\n",
      "LICEO CANADIENSE SOCIEDAD ANONIMA                                     13\n",
      "ESCUELA NACIONAL DE CIENCIAS COMERCIALES                              13\n",
      "Name: count, dtype: int64\n"
     ]
    }
   ],
   "source": [
    "# 2. Top 10 establecimientos más repetidos\n",
    "print(\"\\nTop 10 nombres más frecuentes:\")\n",
    "print(df['ESTABLECIMIENTO'].value_counts().head(10))"
   ]
  },
  {
   "cell_type": "code",
   "execution_count": 52,
   "id": "5bbe5824",
   "metadata": {},
   "outputs": [
    {
     "name": "stdout",
     "output_type": "stream",
     "text": [
      "\n",
      "Distribución de longitud de los nombres:\n",
      "ESTABLECIMIENTO\n",
      "3      1\n",
      "4      7\n",
      "5      1\n",
      "6      1\n",
      "11     4\n",
      "12    16\n",
      "13    31\n",
      "14    60\n",
      "15    43\n",
      "16    65\n",
      "17    37\n",
      "18    70\n",
      "19    58\n",
      "20    68\n",
      "21    83\n",
      "Name: count, dtype: int64\n"
     ]
    }
   ],
   "source": [
    "# 3. Longitudes del texto\n",
    "print(\"\\nDistribución de longitud de los nombres:\")\n",
    "print(df['ESTABLECIMIENTO'].str.len().value_counts().sort_index().head(15))"
   ]
  },
  {
   "cell_type": "code",
   "execution_count": 53,
   "id": "2d8dfc7b",
   "metadata": {},
   "outputs": [
    {
     "name": "stdout",
     "output_type": "stream",
     "text": [
      "\n",
      "Ejemplos de nombres:\n",
      "['COLEGIO TECNICO PROGRESISTA CETECPRO'\n",
      " 'INSTITUTO NORMAL PARA SEÑORITAS CENTRO AMERICA'\n",
      " 'ESCUELA NACIONAL CENTRAL DE FORMACION SECRETARIAL'\n",
      " 'INSTITUTO NACIONAL DE BACHILLERATO EN COMPUTACION'\n",
      " 'ESCUELA NACIONAL CENTRAL DE CIENCIAS COMERCIALES'\n",
      " 'ESCUELA NORMAL PARA MAESTROS DE EDUCACION MUSICAL JESUS MARIA ALVARADO'\n",
      " 'ESCUELA NACIONAL DE ADMINISTRACION PUBLICA LIC. MANUEL GREGORIO LOPEZ SANTIAGO'\n",
      " \"INSTITUTO NORMAL 'CASA CENTRAL'\"\n",
      " 'LICEO TECNOLOGICO GUATEMALA DE LA ASUNCIÓN'\n",
      " 'INSTITUTO MIXTO COACTEMALAN']\n"
     ]
    }
   ],
   "source": [
    "# 4. Ver algunos ejemplos únicos\n",
    "print(\"\\nEjemplos de nombres:\")\n",
    "print(df['ESTABLECIMIENTO'].unique()[:10])"
   ]
  },
  {
   "cell_type": "code",
   "execution_count": 55,
   "id": "1e5c6b24",
   "metadata": {},
   "outputs": [
    {
     "name": "stdout",
     "output_type": "stream",
     "text": [
      "\n",
      "Establecimientos con variantes por formato (mayúsculas/tildes):\n",
      "ESTABLECIMIENTO_NORMALIZADO\n",
      "ACADEMIA COMERCIAL E INSTITUTO LOURDES                 2\n",
      "CENTRO DE APRENDIZAJE BILINGUE NO 1                    2\n",
      "CENTRO DE DESARROLLO EDUCATIVO SAN JOSE                2\n",
      "CENTRO DE EDUCACION CREATIVA TOSCANA                   2\n",
      "CENTRO DE EDUCACION EXTRAESCOLAR -CEEX-                2\n",
      "                                                      ..\n",
      "LICEO TECNOLOGICO MAYA DE GUATEMALA                    2\n",
      "PROGRAMA NACIONAL DE EDUCACION ALTERNATIVA -PRONEA-    2\n",
      "PROGRAMA NACIONAL DE EDUCACION ALTERNATIVA, PRONEA     3\n",
      "TECNOLOGICO MODERNO CENTRO EDUCACIONAL                 2\n",
      "TECNOLOGICO PREUNIVERSITARIO                           2\n",
      "Name: ESTABLECIMIENTO, Length: 510, dtype: int64\n"
     ]
    }
   ],
   "source": [
    "def normalizar_establecimiento(nombre):\n",
    "    nombre = nombre.upper().strip()\n",
    "    nombre = ''.join(c for c in unicodedata.normalize('NFD', nombre) if unicodedata.category(c) != 'Mn')  # sin tildes\n",
    "    nombre = nombre.replace('\"', '').replace('.', '').replace('  ', ' ')\n",
    "    return nombre\n",
    "\n",
    "df['ESTABLECIMIENTO_NORMALIZADO'] = df['ESTABLECIMIENTO'].apply(normalizar_establecimiento)\n",
    "\n",
    "# Ver casos con más de una variante\n",
    "grupo = df.groupby('ESTABLECIMIENTO_NORMALIZADO')['ESTABLECIMIENTO'].nunique()\n",
    "variantes = grupo[grupo > 1]\n",
    "\n",
    "print(\"\\nEstablecimientos con variantes por formato (mayúsculas/tildes):\")\n",
    "print(variantes)"
   ]
  },
  {
   "cell_type": "code",
   "execution_count": 58,
   "id": "949283b0",
   "metadata": {},
   "outputs": [
    {
     "name": "stdout",
     "output_type": "stream",
     "text": [
      "Nombres con menos de 6 caracteres:\n",
      "Total: 4\n",
      "['#NAME?' 'INED' 'ICA' 'IMEBI']\n"
     ]
    }
   ],
   "source": [
    "# Nombres con menos de 6 caracteres\n",
    "cortos = df[df['ESTABLECIMIENTO'].str.len() < 7]['ESTABLECIMIENTO'].unique()\n",
    "print(\"Nombres con menos de 6 caracteres:\")\n",
    "print(f\"Total: {len(cortos)}\")\n",
    "print(cortos[:10])  # muestra los primeros 10"
   ]
  },
  {
   "cell_type": "code",
   "execution_count": 62,
   "id": "f6549698",
   "metadata": {},
   "outputs": [
    {
     "name": "stdout",
     "output_type": "stream",
     "text": [
      "\n",
      "Posibles inconsistencias semánticas (abreviaciones):\n",
      "Abreviaciones exactas encontradas:\n",
      "COL.: 0 apariciones\n",
      "INST.: 0 apariciones\n",
      "ESCU.: 0 apariciones\n",
      "BÁS.: 0 apariciones\n",
      "PRIV.: 0 apariciones\n",
      "NAC.: 0 apariciones\n",
      "MIX.: 0 apariciones\n",
      "PROF.: 0 apariciones\n",
      "INED: 41 apariciones\n"
     ]
    }
   ],
   "source": [
    "print(\"\\nPosibles inconsistencias semánticas (abreviaciones):\")\n",
    "\n",
    "# Lista de abreviaciones a buscar (las verdaderas, como palabra completa)\n",
    "abreviaciones = ['COL.', 'INST.', 'ESCU.', 'BÁS.', 'PRIV.', 'NAC.', 'MIX.', 'PROF.', 'INED']\n",
    "\n",
    "# Usamos expresiones regulares con delimitadores de palabra \\b\n",
    "conteo_abreviaciones = Counter()\n",
    "ejemplos_abreviaciones = {}\n",
    "\n",
    "for abrev in abreviaciones:\n",
    "    patron = rf'\\b{re.escape(abrev)}\\b'\n",
    "    encontrados = df[df['ESTABLECIMIENTO'].str.upper().str.contains(patron, na=False, regex=True)]\n",
    "    conteo_abreviaciones[abrev] = len(encontrados)\n",
    "    ejemplos_abreviaciones[abrev] = encontrados['ESTABLECIMIENTO'].unique()[:5]\n",
    "\n",
    "# Mostrar resultados\n",
    "print(\"Abreviaciones exactas encontradas:\")\n",
    "for abrev, count in conteo_abreviaciones.items():\n",
    "    print(f\"{abrev}: {count} apariciones\")"
   ]
  },
  {
   "cell_type": "code",
   "execution_count": 65,
   "id": "6e7fcc83",
   "metadata": {},
   "outputs": [
    {
     "name": "stdout",
     "output_type": "stream",
     "text": [
      "\n",
      "Ejemplos con 'COL.':\n",
      "\n",
      "Ejemplos con 'INST.':\n",
      "\n",
      "Ejemplos con 'ESCU.':\n",
      "\n",
      "Ejemplos con 'BÁS.':\n",
      "\n",
      "Ejemplos con 'PRIV.':\n",
      "\n",
      "Ejemplos con 'NAC.':\n",
      "\n",
      "Ejemplos con 'MIX.':\n",
      "\n",
      "Ejemplos con 'PROF.':\n",
      "\n",
      "Ejemplos con 'INED':\n",
      "- INED M. A. HERMENEGILDO DE JESÚS PEREIRA DEL CID\n",
      "- INED METROPOLITANO DEL SUR\n",
      "- INED ULEW KOTZ'I'J (TIERRA DE LAS FLORES)\n",
      "- INED INSTITUTO NACIONAL DE EDUCACIÓN DIVERSIFICADA\n",
      "- INSTITUTO NACIONAL DE EDUCACIÓN DIVERSIFICADA -INED-\n"
     ]
    }
   ],
   "source": [
    "# Mostrar ejemplos por abreviación\n",
    "for abrev, ejemplos in ejemplos_abreviaciones.items():\n",
    "    print(f\"\\nEjemplos con '{abrev}':\")\n",
    "    for ejemplo in ejemplos:\n",
    "        print(f\"- {ejemplo}\")"
   ]
  },
  {
   "cell_type": "code",
   "execution_count": null,
   "id": "c8780302",
   "metadata": {},
   "outputs": [],
   "source": [
    "def normalizar_nombre(nombre):\n",
    "    if pd.isna(nombre): return ''\n",
    "    nombre = nombre.upper().strip()\n",
    "    nombre = unicodedata.normalize('NFD', nombre)\n",
    "    nombre = ''.join(c for c in nombre if unicodedata.category(c) != 'Mn')  \n",
    "    nombre = re.sub(r'[\"\\(\\)\\-]', '', nombre)  \n",
    "    nombre = re.sub(r'\\s+', ' ', nombre)       \n",
    "    nombre = nombre.replace('.', '')           \n",
    "    return nombre.strip()\n",
    "\n",
    "# Aplicar normalización\n",
    "df['ESTABLECIMIENTO_NORMALIZADO'] = df['ESTABLECIMIENTO'].apply(normalizar_nombre)"
   ]
  },
  {
   "cell_type": "code",
   "execution_count": null,
   "id": "2fce719c",
   "metadata": {},
   "outputs": [
    {
     "name": "stdout",
     "output_type": "stream",
     "text": [
      "Nombres distintos que se vuelven iguales tras normalizar: 530\n",
      "\n",
      "Variantes del establecimiento 'ACADEMIA COMERCIAL E INSTITUTO LOURDES':\n",
      "- ACADEMIA COMERCIAL E INSTITUTO LOURDES\n",
      "- ACADEMIA COMERCIAL E INSTITUTO \"LOURDES\"\n",
      "\n",
      "Variantes del establecimiento 'CENTRO DE APRENDIZAJE BILINGUE NO 1':\n",
      "- CENTRO DE APRENDIZAJE BILINGÜE NO. 1\n",
      "- CENTRO DE APRENDIZAJE BILINGUE NO. 1\n",
      "\n",
      "Variantes del establecimiento 'CENTRO DE DESARROLLO EDUCATIVO SAN JOSE':\n",
      "- CENTRO DE DESARROLLO EDUCATIVO SAN \"JOSÉ\"\n",
      "- CENTRO DE DESARROLLO EDUCATIVO SAN JOSE\n",
      "\n",
      "Variantes del establecimiento 'CENTRO DE EDUCACION CREATIVA TOSCANA':\n",
      "- CENTRO DE EDUCACION CREATIVA TOSCANA\n",
      "- CENTRO DE EDUCACIÓN CREATIVA TOSCANA\n",
      "\n",
      "Variantes del establecimiento 'CENTRO DE EDUCACION EXTRAESCOLAR CEEX':\n",
      "- CENTRO DE EDUCACION EXTRAESCOLAR -CEEX-\n",
      "- CENTRO DE EDUCACIÓN EXTRAESCOLAR - CEEX\n",
      "- CENTRO DE EDUCACIÓN EXTRAESCOLAR CEEX\n",
      "- CENTRO DE EDUCACIÓN EXTRAESCOLAR -CEEX-\n",
      "\n",
      "Variantes del establecimiento 'CENTRO DE EDUCACION EXTRAESCOLAR CEEX DEPARTAMENTAL':\n",
      "- CENTRO DE EDUCACIÓN EXTRAESCOLAR -CEEX - DEPARTAMENTAL\n",
      "- \"CENTRO DE EDUCACIÓN EXTRAESCOLAR -CEEX- DEPARTAMENTAL\"\n",
      "- CENTRO DE EDUCACIÓN EXTRAESCOLAR -CEEX- DEPARTAMENTAL\n",
      "- CENTRO DE EDUCACION EXTRAESCOLAR -CEEX- DEPARTAMENTAL\n",
      "- CENTRO DE EDUCACIÓN EXTRAESCOLAR CEEX DEPARTAMENTAL\n",
      "\n",
      "Variantes del establecimiento 'CENTRO DE EDUCACION EXTRAESCOLAR CEEX MUNICIPAL':\n",
      "- CENTRO DE EDUCACIÓN EXTRAESCOLAR CEEX MUNICIPAL\n",
      "- CENTRO DE EDUCACIÓN EXTRAESCOLAR -CEEX- MUNICIPAL\n",
      "\n",
      "Variantes del establecimiento 'CENTRO DE EDUCACION EXTRAESCOLAR CEEX QUETZALTENANGO':\n",
      "- CENTRO DE EDUCACIÓN EXTRAESCOLAR -CEEX QUETZALTENANGO\n",
      "- CENTRO DE EDUCACIÓN EXTRAESCOLAR -CEEX- QUETZALTENANGO\n",
      "\n",
      "Variantes del establecimiento 'CENTRO DE EDUCACION EXTRAESCOLAR CEEXDEPARTAMENTAL':\n",
      "- \"CENTRO DE EDUCACIÓN EXTRAESCOLAR -CEEX-DEPARTAMENTAL\"\n",
      "- CENTRO DE EDUCACION EXTRAESCOLAR -CEEX-DEPARTAMENTAL\n",
      "- CENTRO DE EDUCACIÓN EXTRAESCOLAR -CEEX-DEPARTAMENTAL\n",
      "\n",
      "Variantes del establecimiento 'CENTRO DE EDUCACION EXTRAESCOLAR ESCUELA DE CAFICULTURA':\n",
      "- CENTRO DE EDUCACIÓN EXTRAESCOLAR \"ESCUELA DE CAFICULTURA\"\n",
      "- CENTRO DE EDUCACION EXTRAESCOLAR \"ESCUELA DE CAFICULTURA\"\n"
     ]
    }
   ],
   "source": [
    "agrupados = df.groupby('ESTABLECIMIENTO_NORMALIZADO')['ESTABLECIMIENTO'].nunique()\n",
    "duplicados_ocultos = agrupados[agrupados > 1]\n",
    "\n",
    "print(f\"Nombres distintos que se vuelven iguales tras normalizar: {len(duplicados_ocultos)}\")\n",
    "\n",
    "# Ver algunos ejemplos\n",
    "for nombre_norm in duplicados_ocultos.head(10).index:\n",
    "    variantes = df[df['ESTABLECIMIENTO_NORMALIZADO'] == nombre_norm]['ESTABLECIMIENTO'].unique()\n",
    "    print(f\"\\nVariantes del establecimiento '{nombre_norm}':\")\n",
    "    for v in variantes:\n",
    "        print(f\"- {v}\")"
   ]
  },
  {
   "cell_type": "markdown",
   "id": "ee6c7724",
   "metadata": {},
   "source": [
    "### Análisis variable supervisor "
   ]
  },
  {
   "cell_type": "code",
   "execution_count": 69,
   "id": "2c98e230",
   "metadata": {},
   "outputs": [
    {
     "name": "stdout",
     "output_type": "stream",
     "text": [
      "Estado general:\n",
      "Total de registros: 6599\n",
      "Nulos (NaN o vacíos): 0\n",
      "Valores únicos: 599\n"
     ]
    }
   ],
   "source": [
    "# Asegurar que sea string\n",
    "df['SUPERVISOR'] = df['SUPERVISOR'].astype(str)\n",
    "\n",
    "# Estado general\n",
    "print(\"Estado general:\")\n",
    "print(f\"Total de registros: {len(df)}\")\n",
    "print(f\"Nulos (NaN o vacíos): {(df['SUPERVISOR'] == 'nan').sum()}\")\n",
    "print(f\"Valores únicos: {df['SUPERVISOR'].nunique()}\")"
   ]
  },
  {
   "cell_type": "code",
   "execution_count": 70,
   "id": "c6205957",
   "metadata": {},
   "outputs": [
    {
     "name": "stdout",
     "output_type": "stream",
     "text": [
      "\n",
      "Top 10 nombres más frecuentes:\n",
      "SUPERVISOR\n",
      "MIGUEL ANGEL ARMAS ROCHA                          190\n",
      "CARLOS HUMBERTO GONZÁLEZ DE LEÓN                  160\n",
      "JUAN ENRIQUE MARTINEZ SOLANO                      106\n",
      "REMY ARTURO SINAY GUDIEL                           94\n",
      "ELSA YADIRA MARTINEZ PEREZ                         84\n",
      "IDALIA DEL ROSARIO LOPEZ SANDOVAL DE PAIZ          81\n",
      "MILTON ALONSO ALVAREZ FUENTES                      81\n",
      "ELENA ELIZABETH SUCHITE GARNICA DE QUINTANILLA     78\n",
      "LUDVIN RICARDO URRUTIA LORENTI                     77\n",
      "JUAN FRANCISCO GODOY DAVILA                        74\n",
      "Name: count, dtype: int64\n"
     ]
    }
   ],
   "source": [
    "# Top supervisores más frecuentes\n",
    "print(\"\\nTop 10 nombres más frecuentes:\")\n",
    "print(df['SUPERVISOR'].value_counts().head(10))"
   ]
  },
  {
   "cell_type": "code",
   "execution_count": 72,
   "id": "f0754a73",
   "metadata": {},
   "outputs": [
    {
     "name": "stdout",
     "output_type": "stream",
     "text": [
      "\n",
      "📏 Distribución de longitud\n",
      "SUPERVISOR\n",
      "14     32\n",
      "15     17\n",
      "16     18\n",
      "17     57\n",
      "18    126\n",
      "19    131\n",
      "20    143\n",
      "21    115\n",
      "22    109\n",
      "23    182\n",
      "24    532\n",
      "25    387\n",
      "26    621\n",
      "27    492\n",
      "28    536\n",
      "29    740\n",
      "30    546\n",
      "31    326\n",
      "32    408\n",
      "33    145\n",
      "34     69\n",
      "35    149\n",
      "36     73\n",
      "37     56\n",
      "38     58\n",
      "39    111\n",
      "40     16\n",
      "41    123\n",
      "42     87\n",
      "43     15\n",
      "44     24\n",
      "45      8\n",
      "46     88\n",
      "47     29\n",
      "50     30\n",
      "Name: count, dtype: int64\n"
     ]
    }
   ],
   "source": [
    "# Longitud de los nombres\n",
    "longitudes = df['SUPERVISOR'].str.len()\n",
    "print(\"\\n📏 Distribución de longitud\")\n",
    "print(longitudes.value_counts().sort_index())"
   ]
  },
  {
   "cell_type": "code",
   "execution_count": 75,
   "id": "8d4faa54",
   "metadata": {},
   "outputs": [
    {
     "name": "stdout",
     "output_type": "stream",
     "text": [
      "\n",
      "Ejemplos únicos:\n",
      "['AMADO SALOMON FLORES PEREZ' 'LUCRECIA MARISOL CERMEÑO GONZÁLEZ'\n",
      " 'NORMA ARACELY PALOMO FRANCO DE DIAZ' 'CARLOS HUMBERTO GONZÁLEZ DE LEÓN'\n",
      " 'AURA MARINA GARRIDO MORALES' 'LESLIE AZUCENA MONZON TECUN'\n",
      " 'MARIANO DOMINGO ESTRADA TELETOR' 'ZUHILEM YESENIA ESTRADA ORTIZ'\n",
      " 'SILVIA EUGENIA VALDEZ MONTERROSO DE CARBALLO'\n",
      " 'IXMUCANE ALDANA VILLAVICENCIO']\n"
     ]
    }
   ],
   "source": [
    "# 5. Ejemplos únicos\n",
    "print(\"\\nEjemplos únicos:\")\n",
    "print(df['SUPERVISOR'].unique()[:10])"
   ]
  },
  {
   "cell_type": "code",
   "execution_count": 78,
   "id": "7ae05b5c",
   "metadata": {},
   "outputs": [
    {
     "name": "stdout",
     "output_type": "stream",
     "text": [
      "\n",
      "Supervisores con variantes por formato: 8\n",
      "\n",
      "Variantes de 'AUGUSTO MANUEL ANDRES SEBASTIAN':\n",
      "- AUGUSTO MANUEL ANDRÉS SEBASTIÁN\n",
      "- AUGUSTO MANUEL ANDRES SEBASTIAN\n",
      "\n",
      "Variantes de 'CARLOS HUMBERTO GONZALEZ DE LEON':\n",
      "- CARLOS HUMBERTO GONZÁLEZ DE LEÓN\n",
      "- CARLOS HUMBERTO GONZALEZ DE LEON\n",
      "\n",
      "Variantes de 'FIDEL OMAR HERNANDEZ RAMIREZ':\n",
      "- FIDEL OMAR HERNÁNDEZ RAMÍREZ\n",
      "- FIDEL OMAR HERNANDEZ RAMIREZ\n",
      "\n",
      "Variantes de 'JOSE DE JESUS CAMPOSECO MENDOZA':\n",
      "- JOSÉ DE JESÚS CAMPOSECO MÉNDOZA\n",
      "- JOSÉ DE JESÚS CAMPOSECO MENDOZA\n",
      "\n",
      "Variantes de 'JUAN CARLOS MORALES GONZALEZ':\n",
      "- JUAN CARLOS MORALES GONZALEZ\n",
      "- JUAN CARLOS MORALES GONZÁLEZ\n",
      "\n",
      "Variantes de 'JUAN JOSE TOBAR TEBALAN':\n",
      "- JUAN JOSE TOBAR TEBALAN\n",
      "- JUAN JOSÉ TOBAR TEBALAN\n",
      "\n",
      "Variantes de 'JULIO RENE NOTZ CUTZAL':\n",
      "- JULIO RENÉ NOTZ CUTZAL\n",
      "- JULIO RENE NOTZ CUTZAL\n",
      "\n",
      "Variantes de 'MIGUEL AJPOP VASQUEZ':\n",
      "- MIGUEL AJPOP VÁSQUEZ\n",
      "- MIGUEL AJPOP VASQUEZ\n"
     ]
    }
   ],
   "source": [
    "def normalizar_nombre(nombre):\n",
    "    nombre = nombre.upper().strip()\n",
    "    nombre = unicodedata.normalize('NFD', nombre)\n",
    "    nombre = ''.join(c for c in nombre if unicodedata.category(c) != 'Mn')  # sin tildes\n",
    "    nombre = re.sub(r'[\\\"\\'\\-\\.]', '', nombre)\n",
    "    nombre = re.sub(r'\\s+', ' ', nombre)\n",
    "    return nombre.strip()\n",
    "\n",
    "df['SUPERVISOR_NORMALIZADO'] = df['SUPERVISOR'].apply(normalizar_nombre)\n",
    "\n",
    "agrupados = df.groupby('SUPERVISOR_NORMALIZADO')['SUPERVISOR'].nunique()\n",
    "duplicados = agrupados[agrupados > 1]\n",
    "\n",
    "print(f\"\\nSupervisores con variantes por formato: {len(duplicados)}\")\n",
    "\n",
    "for nombre_norm in duplicados.head(10).index:\n",
    "    variantes = df[df['SUPERVISOR_NORMALIZADO'] == nombre_norm]['SUPERVISOR'].unique()\n",
    "    print(f\"\\nVariantes de '{nombre_norm}':\")\n",
    "    for v in variantes:\n",
    "        print(f\"- {v}\")"
   ]
  },
  {
   "cell_type": "markdown",
   "id": "53ba9e18",
   "metadata": {},
   "source": [
    "### Análisis de variables categóricas"
   ]
  },
  {
   "cell_type": "code",
   "execution_count": 79,
   "id": "23752b67",
   "metadata": {},
   "outputs": [
    {
     "name": "stdout",
     "output_type": "stream",
     "text": [
      "\n",
      "Análisis de columna: NIVEL\n",
      "----------------------------------------\n",
      "Valores únicos (sin normalizar): 1\n",
      "Valores más comunes:\n",
      "NIVEL\n",
      "DIVERSIFICADO    6599\n",
      "Name: count, dtype: int64\n",
      "\n",
      "Valores únicos (ordenados):\n",
      "['DIVERSIFICADO']\n",
      "\n",
      "Nulos: 0 (vacíos o NaN)\n",
      "\n",
      "Análisis de columna: SECTOR\n",
      "----------------------------------------\n",
      "Valores únicos (sin normalizar): 4\n",
      "Valores más comunes:\n",
      "SECTOR\n",
      "PRIVADO        5417\n",
      "OFICIAL         874\n",
      "COOPERATIVA     213\n",
      "MUNICIPAL        95\n",
      "Name: count, dtype: int64\n",
      "\n",
      "Valores únicos (ordenados):\n",
      "['COOPERATIVA', 'MUNICIPAL', 'OFICIAL', 'PRIVADO']\n",
      "\n",
      "Nulos: 0 (vacíos o NaN)\n",
      "\n",
      "Análisis de columna: AREA\n",
      "----------------------------------------\n",
      "Valores únicos (sin normalizar): 3\n",
      "Valores más comunes:\n",
      "AREA\n",
      "URBANA             5249\n",
      "RURAL              1349\n",
      "SIN ESPECIFICAR       1\n",
      "Name: count, dtype: int64\n",
      "\n",
      "Valores únicos (ordenados):\n",
      "['RURAL', 'SIN ESPECIFICAR', 'URBANA']\n",
      "\n",
      "Nulos: 0 (vacíos o NaN)\n",
      "\n",
      "Análisis de columna: STATUS\n",
      "----------------------------------------\n",
      "Valores únicos (sin normalizar): 1\n",
      "Valores más comunes:\n",
      "STATUS\n",
      "ABIERTA    6599\n",
      "Name: count, dtype: int64\n",
      "\n",
      "Valores únicos (ordenados):\n",
      "['ABIERTA']\n",
      "\n",
      "Nulos: 0 (vacíos o NaN)\n",
      "\n",
      "Análisis de columna: MODALIDAD\n",
      "----------------------------------------\n",
      "Valores únicos (sin normalizar): 2\n",
      "Valores más comunes:\n",
      "MODALIDAD\n",
      "MONOLINGUE    6390\n",
      "BILINGUE       209\n",
      "Name: count, dtype: int64\n",
      "\n",
      "Valores únicos (ordenados):\n",
      "['BILINGUE', 'MONOLINGUE']\n",
      "\n",
      "Nulos: 0 (vacíos o NaN)\n",
      "\n",
      "Análisis de columna: JORNADA\n",
      "----------------------------------------\n",
      "Valores únicos (sin normalizar): 6\n",
      "Valores más comunes:\n",
      "JORNADA\n",
      "DOBLE          1957\n",
      "VESPERTINA     1836\n",
      "MATUTINA       1686\n",
      "SIN JORNADA    1001\n",
      "NOCTURNA        106\n",
      "INTERMEDIA       13\n",
      "Name: count, dtype: int64\n",
      "\n",
      "Valores únicos (ordenados):\n",
      "['DOBLE', 'INTERMEDIA', 'MATUTINA', 'NOCTURNA', 'SIN JORNADA', 'VESPERTINA']\n",
      "\n",
      "Nulos: 0 (vacíos o NaN)\n",
      "\n",
      "Análisis de columna: PLAN\n",
      "----------------------------------------\n",
      "Valores únicos (sin normalizar): 12\n",
      "Valores más comunes:\n",
      "PLAN\n",
      "DIARIO(REGULAR)                          4051\n",
      "FIN DE SEMANA                            1310\n",
      "SEMIPRESENCIAL (FIN DE SEMANA)            490\n",
      "SEMIPRESENCIAL (UN DÍA A LA SEMANA)       409\n",
      "A DISTANCIA                               116\n",
      "SEMIPRESENCIAL                             99\n",
      "SEMIPRESENCIAL (DOS DÍAS A LA SEMANA)      62\n",
      "VIRTUAL A DISTANCIA                        52\n",
      "SABATINO                                    5\n",
      "DOMINICAL                                   2\n",
      "Name: count, dtype: int64\n",
      "\n",
      "Valores únicos (ordenados):\n",
      "['A DISTANCIA', 'DIARIO(REGULAR)', 'DOMINICAL', 'FIN DE SEMANA', 'INTERCALADO', 'MIXTO', 'SABATINO', 'SEMIPRESENCIAL', 'SEMIPRESENCIAL (DOS DÍAS A LA SEMANA)', 'SEMIPRESENCIAL (FIN DE SEMANA)', 'SEMIPRESENCIAL (UN DÍA A LA SEMANA)', 'VIRTUAL A DISTANCIA']\n",
      "\n",
      "Nulos: 0 (vacíos o NaN)\n",
      "\n",
      "Análisis de columna: DEPARTAMENTAL\n",
      "----------------------------------------\n",
      "Valores únicos (sin normalizar): 26\n",
      "Valores más comunes:\n",
      "DEPARTAMENTAL\n",
      "GUATEMALA OCCIDENTE    551\n",
      "GUATEMALA NORTE        544\n",
      "GUATEMALA SUR          528\n",
      "SAN MARCOS             432\n",
      "ESCUINTLA              393\n",
      "QUETZALTENANGO         365\n",
      "CHIMALTENANGO          304\n",
      "SUCHITEPÉQUEZ          296\n",
      "JUTIAPA                296\n",
      "HUEHUETENANGO          295\n",
      "Name: count, dtype: int64\n",
      "\n",
      "Valores únicos (ordenados):\n",
      "['ALTA VERAPAZ', 'BAJA VERAPAZ', 'CHIMALTENANGO', 'CHIQUIMULA', 'EL PROGRESO', 'ESCUINTLA', 'GUATEMALA NORTE', 'GUATEMALA OCCIDENTE', 'GUATEMALA ORIENTE', 'GUATEMALA SUR', 'HUEHUETENANGO', 'IZABAL', 'JALAPA', 'JUTIAPA', 'PETÉN', 'QUETZALTENANGO', 'QUICHÉ', 'QUICHÉ NORTE', 'RETALHULEU', 'SACATEPÉQUEZ', 'SAN MARCOS', 'SANTA ROSA', 'SOLOLÁ', 'SUCHITEPÉQUEZ', 'TOTONICAPÁN', 'ZACAPA']\n",
      "\n",
      "Nulos: 0 (vacíos o NaN)\n"
     ]
    }
   ],
   "source": [
    "# Lista de columnas categóricas que mencionaste\n",
    "cat_cols = ['NIVEL', 'SECTOR', 'AREA', 'STATUS', 'MODALIDAD', 'JORNADA', 'PLAN', 'DEPARTAMENTAL']\n",
    "\n",
    "for col in cat_cols:\n",
    "    print(f\"\\nAnálisis de columna: {col}\")\n",
    "    print(\"-\" * 40)\n",
    "    print(f\"Valores únicos (sin normalizar): {df[col].nunique()}\")\n",
    "    print(\"Valores más comunes:\")\n",
    "    print(df[col].value_counts(dropna=False).head(10))\n",
    "    \n",
    "    # Valores únicos ordenados alfabéticamente\n",
    "    print(\"\\nValores únicos (ordenados):\")\n",
    "    print(sorted(df[col].dropna().unique()))\n",
    "    \n",
    "    # Nulos\n",
    "    print(f\"\\nNulos: {df[col].isnull().sum()} (vacíos o NaN)\")"
   ]
  }
 ],
 "metadata": {
  "kernelspec": {
   "display_name": "Python 3",
   "language": "python",
   "name": "python3"
  },
  "language_info": {
   "codemirror_mode": {
    "name": "ipython",
    "version": 3
   },
   "file_extension": ".py",
   "mimetype": "text/x-python",
   "name": "python",
   "nbconvert_exporter": "python",
   "pygments_lexer": "ipython3",
   "version": "3.10.2"
  }
 },
 "nbformat": 4,
 "nbformat_minor": 5
}
